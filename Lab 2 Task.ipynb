{
 "cells": [
  {
   "cell_type": "markdown",
   "metadata": {
    "id": "IHqZjrHhorSI"
   },
   "source": [
    "# Tensorflow basis"
   ]
  },
  {
   "cell_type": "markdown",
   "metadata": {
    "id": "p0X8ywdNpQRf"
   },
   "source": [
    "## Example 1\n",
    "\n",
    "Eager calculations in tensorflow\n",
    "\n",
    "Add two variables a = 1 and b = 10\n"
   ]
  },
  {
   "cell_type": "code",
   "execution_count": 2,
   "metadata": {
    "colab": {
     "base_uri": "https://localhost:8080/"
    },
    "executionInfo": {
     "elapsed": 379,
     "status": "ok",
     "timestamp": 1635105415938,
     "user": {
      "displayName": "Miroslav Skrbek",
      "photoUrl": "https://lh3.googleusercontent.com/a/default-user=s64",
      "userId": "09090339778048681694"
     },
     "user_tz": -120
    },
    "id": "X049bV9WorSR",
    "outputId": "621c25e6-dcbd-4a25-9cad-d6b38b8e25f0"
   },
   "outputs": [
    {
     "name": "stdout",
     "output_type": "stream",
     "text": [
      "True\n",
      "11\n",
      "tf.Tensor(11, shape=(), dtype=int32)\n"
     ]
    }
   ],
   "source": [
    "# Example\n",
    "import numpy as np\n",
    "import tensorflow as tf\n",
    "\n",
    "print(tf.executing_eagerly())\n",
    "\n",
    "a = tf.Variable(1)\n",
    "b = tf.Variable(10)\n",
    "c = a + b\n",
    "print(c.numpy())\n",
    "print(c)"
   ]
  },
  {
   "cell_type": "markdown",
   "metadata": {
    "id": "7KkZe5r4p-hU"
   },
   "source": [
    "## Example 2\n"
   ]
  },
  {
   "cell_type": "code",
   "execution_count": 3,
   "metadata": {
    "colab": {
     "base_uri": "https://localhost:8080/"
    },
    "executionInfo": {
     "elapsed": 16,
     "status": "ok",
     "timestamp": 1635105416565,
     "user": {
      "displayName": "Miroslav Skrbek",
      "photoUrl": "https://lh3.googleusercontent.com/a/default-user=s64",
      "userId": "09090339778048681694"
     },
     "user_tz": -120
    },
    "id": "yqgGl1bOvNvK",
    "outputId": "bd4b3761-1715-4790-8f3e-1236f2ad9918"
   },
   "outputs": [
    {
     "name": "stdout",
     "output_type": "stream",
     "text": [
      "10\n"
     ]
    }
   ],
   "source": [
    "# Example\n",
    "\n",
    "@tf.function \n",
    "def add(a,b): \n",
    "  return a + b\n",
    "\n",
    "def sub(a,b):\n",
    "  return a - b  \n",
    "\n",
    "a = tf.Variable(5) \n",
    "b = tf.Variable(6)\n",
    "c = tf.Variable(1)\n",
    "\n",
    "x = add(a,sub(b,c))\n",
    "print(x.numpy())\n"
   ]
  },
  {
   "cell_type": "code",
   "execution_count": 4,
   "metadata": {},
   "outputs": [
    {
     "name": "stderr",
     "output_type": "stream",
     "text": [
      "UsageError: Line magic function `%tensorboard` not found.\n"
     ]
    }
   ],
   "source": [
    "import time\n",
    "from datetime import datetime\n",
    "tf.get_logger().setLevel('ERROR')\n",
    "\n",
    "stamp=datetime.now().strftime(\"%Y%m%d=%H%M%S\")\n",
    "logdir='logs/func/%s' % stamp\n",
    "writer =tf.summary.create_file_writer(logdir)\n",
    "tf.summary.trace_on(graph=True,profiler=True)\n",
    "\n",
    "x=add(a,sub(b,c))\n",
    "with writer.as_default():\n",
    "  tf.summary.trace_export(name='function_trace',step=0,profiler_outdir=logdir)\n",
    "\n",
    "tf.summary.trace_off()\n",
    "%reload_ext tensorflow\n",
    "%tensorboard --logdir logs/func"
   ]
  },
  {
   "cell_type": "code",
   "execution_count": 5,
   "metadata": {},
   "outputs": [
    {
     "data": {
      "text/plain": [
       "'2.4.1'"
      ]
     },
     "execution_count": 5,
     "metadata": {},
     "output_type": "execute_result"
    }
   ],
   "source": [
    "import tensorflow as tf\n",
    "tf.__version__"
   ]
  },
  {
   "cell_type": "markdown",
   "metadata": {
    "id": "C8Wkt72q1od2"
   },
   "source": [
    "# Task 1\n",
    "\n",
    "Calculate by Tensorflow folowing expression $y = a * b + c$.\n",
    "\n",
    "a,b, and c are 2x2 matrixes. Numbers in matrixes depends on your choice.\n",
    "Multiplication is elementwise.\n"
   ]
  },
  {
   "cell_type": "code",
   "execution_count": 6,
   "metadata": {
    "colab": {
     "base_uri": "https://localhost:8080/"
    },
    "executionInfo": {
     "elapsed": 15,
     "status": "ok",
     "timestamp": 1635105416567,
     "user": {
      "displayName": "Miroslav Skrbek",
      "photoUrl": "https://lh3.googleusercontent.com/a/default-user=s64",
      "userId": "09090339778048681694"
     },
     "user_tz": -120
    },
    "id": "eQKqnVCcorST",
    "outputId": "e547829d-9255-408b-a2ff-9ee7c2562d36"
   },
   "outputs": [
    {
     "name": "stdout",
     "output_type": "stream",
     "text": [
      "tf.Tensor(\n",
      "[[ 8  3]\n",
      " [33 14]], shape=(2, 2), dtype=int32)\n"
     ]
    }
   ],
   "source": [
    "#Write your code here\n",
    "\n",
    "\n",
    "a=tf.constant([[2,1],[3,6]])\n",
    "b=tf.constant([[4,1],[9,1]])\n",
    "c=tf.constant([[0,2],[6,8]])\n",
    "\n",
    "def demo(a,b,c): \n",
    "    return (a*b)+c\n",
    "\n",
    "print(demo(a,b,c))"
   ]
  },
  {
   "cell_type": "markdown",
   "metadata": {
    "id": "FfwIYjWT1tjU"
   },
   "source": [
    "# Example 3\n",
    "\n",
    "Draw a graf of the function $y=f(x)=x^2$ and its derivatice $y'=f'(x). Use Tensoflow for derivative calculation."
   ]
  },
  {
   "cell_type": "code",
   "execution_count": 7,
   "metadata": {
    "colab": {
     "base_uri": "https://localhost:8080/",
     "height": 320
    },
    "executionInfo": {
     "elapsed": 477,
     "status": "ok",
     "timestamp": 1635106211562,
     "user": {
      "displayName": "Miroslav Skrbek",
      "photoUrl": "https://lh3.googleusercontent.com/a/default-user=s64",
      "userId": "09090339778048681694"
     },
     "user_tz": -120
    },
    "id": "XMIJkPiC4Zq3",
    "outputId": "4ade5a6c-402d-4cb4-cf78-8b6810386143"
   },
   "outputs": [
    {
     "data": {
      "text/plain": [
       "[<matplotlib.lines.Line2D at 0x298e72617f0>]"
      ]
     },
     "execution_count": 7,
     "metadata": {},
     "output_type": "execute_result"
    },
    {
     "data": {
      "image/png": "[encoded data removed]",
      "text/plain": [
       "<Figure size 432x288 with 1 Axes>"
      ]
     },
     "metadata": {
      "needs_background": "light"
     },
     "output_type": "display_data"
    }
   ],
   "source": [
    "# Example\n",
    "import tensorflow as tf\n",
    "import numpy as np\n",
    "import matplotlib.pyplot as plt\n",
    "\n",
    "tf.config.run_functions_eagerly(False)\n",
    "\n",
    "@tf.function\n",
    "def f(x):\n",
    "  y = x*x\n",
    "  return y\n",
    "\n",
    "@tf.function\n",
    "def dfdx(x):\n",
    "  y = f(x)\n",
    "  return tf.gradients(y, x)[0]\n",
    "\n",
    "x = tf.Variable([-3.,-2.,-1.,0.,1.,2.,3.])\n",
    "\n",
    "\n",
    "plt.plot(f(x))\n",
    "plt.plot(dfdx(x))       "
   ]
  },
  {
   "cell_type": "markdown",
   "metadata": {
    "id": "RsoyoR_97wRL"
   },
   "source": [
    "# Task 2\n",
    "\n",
    "Draw a graf of the function $y=\\sigma(x)=\\frac{1}{1+e^{-x}}$ and its derivative $y'=s'(x)$. Use Tensoflow for derivative calculation."
   ]
  },
  {
   "cell_type": "code",
   "execution_count": 8,
   "metadata": {
    "colab": {
     "base_uri": "https://localhost:8080/",
     "height": 283
    },
    "executionInfo": {
     "elapsed": 455,
     "status": "ok",
     "timestamp": 1635106557135,
     "user": {
      "displayName": "Miroslav Skrbek",
      "photoUrl": "https://lh3.googleusercontent.com/a/default-user=s64",
      "userId": "09090339778048681694"
     },
     "user_tz": -120
    },
    "id": "JdLkmdNmorSU",
    "outputId": "65b66963-4c70-4762-aa91-16c20133cd5f"
   },
   "outputs": [
    {
     "data": {
      "text/plain": [
       "[<matplotlib.lines.Line2D at 0x298f190b160>]"
      ]
     },
     "execution_count": 8,
     "metadata": {},
     "output_type": "execute_result"
    },
    {
     "data": {
      "image/png": "[encoded data removed]",
      "text/plain": [
       "<Figure size 432x288 with 1 Axes>"
      ]
     },
     "metadata": {
      "needs_background": "light"
     },
     "output_type": "display_data"
    }
   ],
   "source": [
    "#Write your code here\n",
    "\n",
    "@tf.function\n",
    "def sigma(x):\n",
    "    y=1/(1+tf.exp(-x))\n",
    "    return y\n",
    "\n",
    "@tf.function\n",
    "def dsigma(x):\n",
    "    y=sigma(x)\n",
    "    return tf.gradients(y,x)[0]\n",
    "\n",
    "\n",
    "x = tf.Variable([-3.,-2.,-1.,0.,1.,2.,3.])\n",
    "\n",
    "\n",
    "plt.plot(sigma(x))\n",
    "plt.plot(dsigma(x))       "
   ]
  },
  {
   "cell_type": "markdown",
   "metadata": {
    "id": "cLwKB6Si7kwS"
   },
   "source": [
    "# Task 3\n",
    "\n",
    "Calculate the gradient of function $y=g(x,y)=e^{-\\frac{x^2+y^2}{2\\sigma^2}}$ for $\\sigma^2 = 0.5\\;\\mbox{and}\\;x = 1\\;\\mbox{and}\\;y = 1$"
   ]
  },
  {
   "cell_type": "code",
   "execution_count": 11,
   "metadata": {
    "colab": {
     "base_uri": "https://localhost:8080/"
    },
    "executionInfo": {
     "elapsed": 405,
     "status": "ok",
     "timestamp": 1635107819785,
     "user": {
      "displayName": "Miroslav Skrbek",
      "photoUrl": "https://lh3.googleusercontent.com/a/default-user=s64",
      "userId": "09090339778048681694"
     },
     "user_tz": -120
    },
    "id": "WYcL7uk2orSV",
    "outputId": "2299fb4f-07ff-4ae2-b746-0af61bf4e8d3",
    "scrolled": true
   },
   "outputs": [
    {
     "name": "stdout",
     "output_type": "stream",
     "text": [
      "-0.27067056\n",
      "-0.27067056\n"
     ]
    }
   ],
   "source": [
    "#Write your code here\n",
    "import tensorflow as tf\n",
    "tf.compat.v1.enable_eager_execution()\n",
    "assert tf.executing_eagerly()\n",
    "\n",
    "x=tf.Variable(1.,dtype=tf.float32)\n",
    "y=tf.Variable(1.,dtype=tf.float32)\n",
    "sigma=tf.Variable(0.5,dtype=tf.float32)\n",
    "\n",
    "\n",
    "@tf.function\n",
    "def gradient(x,y):\n",
    "    return tf.math.exp(-1 * (tf.math.pow(x,2) + tf.math.pow(y,2)) / (2 * sigma))\n",
    "\n",
    "@tf.function\n",
    "def dgradient(x,y):\n",
    "    y=gradient(x,y)\n",
    "    return tf.gradients(y,x)[0]\n",
    "\n",
    "\n",
    "print(dgradient(x,y).numpy())\n",
    "print(dgradient(y,x).numpy())"
   ]
  },
  {
   "cell_type": "code",
   "execution_count": 6,
   "metadata": {},
   "outputs": [
    {
     "data": {
      "text/plain": [
       "'2.6.2'"
      ]
     },
     "execution_count": 6,
     "metadata": {},
     "output_type": "execute_result"
    }
   ],
   "source": [
    "tf.__version__"
   ]
  },
  {
   "cell_type": "markdown",
   "metadata": {
    "id": "A2LslzJfBpxg"
   },
   "source": [
    "# Task 4\n",
    "\n",
    "Create a simple neural feed forward neural network using Tensorflow.\n",
    "\n",
    "Input layer -> hidden layer -> output layer\n",
    "\n",
    "for IRIS dataset"
   ]
  },
  {
   "cell_type": "code",
   "execution_count": 98,
   "metadata": {
    "colab": {
     "base_uri": "https://localhost:8080/",
     "height": 595
    },
    "executionInfo": {
     "elapsed": 393,
     "status": "error",
     "timestamp": 1635109151980,
     "user": {
      "displayName": "Miroslav Skrbek",
      "photoUrl": "https://lh3.googleusercontent.com/a/default-user=s64",
      "userId": "09090339778048681694"
     },
     "user_tz": -120
    },
    "id": "YrLz_TkB-bfT",
    "outputId": "83b0207c-7bcb-4787-97ff-f4efaf21e19d"
   },
   "outputs": [
    {
     "data": {
      "text/html": [
       "<div>\n",
       "<style scoped>\n",
       "    .dataframe tbody tr th:only-of-type {\n",
       "        vertical-align: middle;\n",
       "    }\n",
       "\n",
       "    .dataframe tbody tr th {\n",
       "        vertical-align: top;\n",
       "    }\n",
       "\n",
       "    .dataframe thead th {\n",
       "        text-align: right;\n",
       "    }\n",
       "</style>\n",
       "<table border=\"1\" class=\"dataframe\">\n",
       "  <thead>\n",
       "    <tr style=\"text-align: right;\">\n",
       "      <th></th>\n",
       "      <th>0</th>\n",
       "      <th>1</th>\n",
       "      <th>2</th>\n",
       "      <th>3</th>\n",
       "      <th>4</th>\n",
       "    </tr>\n",
       "  </thead>\n",
       "  <tbody>\n",
       "    <tr>\n",
       "      <th>0</th>\n",
       "      <td>5.1</td>\n",
       "      <td>3.5</td>\n",
       "      <td>1.4</td>\n",
       "      <td>0.2</td>\n",
       "      <td>Iris-setosa</td>\n",
       "    </tr>\n",
       "    <tr>\n",
       "      <th>1</th>\n",
       "      <td>4.9</td>\n",
       "      <td>3.0</td>\n",
       "      <td>1.4</td>\n",
       "      <td>0.2</td>\n",
       "      <td>Iris-setosa</td>\n",
       "    </tr>\n",
       "    <tr>\n",
       "      <th>2</th>\n",
       "      <td>4.7</td>\n",
       "      <td>3.2</td>\n",
       "      <td>1.3</td>\n",
       "      <td>0.2</td>\n",
       "      <td>Iris-setosa</td>\n",
       "    </tr>\n",
       "    <tr>\n",
       "      <th>3</th>\n",
       "      <td>4.6</td>\n",
       "      <td>3.1</td>\n",
       "      <td>1.5</td>\n",
       "      <td>0.2</td>\n",
       "      <td>Iris-setosa</td>\n",
       "    </tr>\n",
       "    <tr>\n",
       "      <th>4</th>\n",
       "      <td>5.0</td>\n",
       "      <td>3.6</td>\n",
       "      <td>1.4</td>\n",
       "      <td>0.2</td>\n",
       "      <td>Iris-setosa</td>\n",
       "    </tr>\n",
       "    <tr>\n",
       "      <th>...</th>\n",
       "      <td>...</td>\n",
       "      <td>...</td>\n",
       "      <td>...</td>\n",
       "      <td>...</td>\n",
       "      <td>...</td>\n",
       "    </tr>\n",
       "    <tr>\n",
       "      <th>145</th>\n",
       "      <td>6.7</td>\n",
       "      <td>3.0</td>\n",
       "      <td>5.2</td>\n",
       "      <td>2.3</td>\n",
       "      <td>Iris-virginica</td>\n",
       "    </tr>\n",
       "    <tr>\n",
       "      <th>146</th>\n",
       "      <td>6.3</td>\n",
       "      <td>2.5</td>\n",
       "      <td>5.0</td>\n",
       "      <td>1.9</td>\n",
       "      <td>Iris-virginica</td>\n",
       "    </tr>\n",
       "    <tr>\n",
       "      <th>147</th>\n",
       "      <td>6.5</td>\n",
       "      <td>3.0</td>\n",
       "      <td>5.2</td>\n",
       "      <td>2.0</td>\n",
       "      <td>Iris-virginica</td>\n",
       "    </tr>\n",
       "    <tr>\n",
       "      <th>148</th>\n",
       "      <td>6.2</td>\n",
       "      <td>3.4</td>\n",
       "      <td>5.4</td>\n",
       "      <td>2.3</td>\n",
       "      <td>Iris-virginica</td>\n",
       "    </tr>\n",
       "    <tr>\n",
       "      <th>149</th>\n",
       "      <td>5.9</td>\n",
       "      <td>3.0</td>\n",
       "      <td>5.1</td>\n",
       "      <td>1.8</td>\n",
       "      <td>Iris-virginica</td>\n",
       "    </tr>\n",
       "  </tbody>\n",
       "</table>\n",
       "<p>150 rows × 5 columns</p>\n",
       "</div>"
      ],
      "text/plain": [
       "       0    1    2    3               4\n",
       "0    5.1  3.5  1.4  0.2     Iris-setosa\n",
       "1    4.9  3.0  1.4  0.2     Iris-setosa\n",
       "2    4.7  3.2  1.3  0.2     Iris-setosa\n",
       "3    4.6  3.1  1.5  0.2     Iris-setosa\n",
       "4    5.0  3.6  1.4  0.2     Iris-setosa\n",
       "..   ...  ...  ...  ...             ...\n",
       "145  6.7  3.0  5.2  2.3  Iris-virginica\n",
       "146  6.3  2.5  5.0  1.9  Iris-virginica\n",
       "147  6.5  3.0  5.2  2.0  Iris-virginica\n",
       "148  6.2  3.4  5.4  2.3  Iris-virginica\n",
       "149  5.9  3.0  5.1  1.8  Iris-virginica\n",
       "\n",
       "[150 rows x 5 columns]"
      ]
     },
     "execution_count": 98,
     "metadata": {},
     "output_type": "execute_result"
    }
   ],
   "source": [
    "#Write your code here\n",
    "\n",
    "import pandas as pd\n",
    "\n",
    "df=pd.read_csv(r'C:\\Users\\E0IN\\Desktop\\CC\\iris.data',header=None)\n",
    "df\n",
    "\n"
   ]
  },
  {
   "cell_type": "code",
   "execution_count": 100,
   "metadata": {},
   "outputs": [
    {
     "data": {
      "text/html": [
       "<div>\n",
       "<style scoped>\n",
       "    .dataframe tbody tr th:only-of-type {\n",
       "        vertical-align: middle;\n",
       "    }\n",
       "\n",
       "    .dataframe tbody tr th {\n",
       "        vertical-align: top;\n",
       "    }\n",
       "\n",
       "    .dataframe thead th {\n",
       "        text-align: right;\n",
       "    }\n",
       "</style>\n",
       "<table border=\"1\" class=\"dataframe\">\n",
       "  <thead>\n",
       "    <tr style=\"text-align: right;\">\n",
       "      <th></th>\n",
       "      <th>0</th>\n",
       "      <th>1</th>\n",
       "      <th>2</th>\n",
       "      <th>3</th>\n",
       "      <th>4</th>\n",
       "    </tr>\n",
       "  </thead>\n",
       "  <tbody>\n",
       "    <tr>\n",
       "      <th>0</th>\n",
       "      <td>5.1</td>\n",
       "      <td>3.5</td>\n",
       "      <td>1.4</td>\n",
       "      <td>0.2</td>\n",
       "      <td>2</td>\n",
       "    </tr>\n",
       "    <tr>\n",
       "      <th>1</th>\n",
       "      <td>4.9</td>\n",
       "      <td>3.0</td>\n",
       "      <td>1.4</td>\n",
       "      <td>0.2</td>\n",
       "      <td>2</td>\n",
       "    </tr>\n",
       "    <tr>\n",
       "      <th>2</th>\n",
       "      <td>4.7</td>\n",
       "      <td>3.2</td>\n",
       "      <td>1.3</td>\n",
       "      <td>0.2</td>\n",
       "      <td>2</td>\n",
       "    </tr>\n",
       "    <tr>\n",
       "      <th>3</th>\n",
       "      <td>4.6</td>\n",
       "      <td>3.1</td>\n",
       "      <td>1.5</td>\n",
       "      <td>0.2</td>\n",
       "      <td>2</td>\n",
       "    </tr>\n",
       "    <tr>\n",
       "      <th>4</th>\n",
       "      <td>5.0</td>\n",
       "      <td>3.6</td>\n",
       "      <td>1.4</td>\n",
       "      <td>0.2</td>\n",
       "      <td>2</td>\n",
       "    </tr>\n",
       "    <tr>\n",
       "      <th>...</th>\n",
       "      <td>...</td>\n",
       "      <td>...</td>\n",
       "      <td>...</td>\n",
       "      <td>...</td>\n",
       "      <td>...</td>\n",
       "    </tr>\n",
       "    <tr>\n",
       "      <th>145</th>\n",
       "      <td>6.7</td>\n",
       "      <td>3.0</td>\n",
       "      <td>5.2</td>\n",
       "      <td>2.3</td>\n",
       "      <td>0</td>\n",
       "    </tr>\n",
       "    <tr>\n",
       "      <th>146</th>\n",
       "      <td>6.3</td>\n",
       "      <td>2.5</td>\n",
       "      <td>5.0</td>\n",
       "      <td>1.9</td>\n",
       "      <td>0</td>\n",
       "    </tr>\n",
       "    <tr>\n",
       "      <th>147</th>\n",
       "      <td>6.5</td>\n",
       "      <td>3.0</td>\n",
       "      <td>5.2</td>\n",
       "      <td>2.0</td>\n",
       "      <td>0</td>\n",
       "    </tr>\n",
       "    <tr>\n",
       "      <th>148</th>\n",
       "      <td>6.2</td>\n",
       "      <td>3.4</td>\n",
       "      <td>5.4</td>\n",
       "      <td>2.3</td>\n",
       "      <td>0</td>\n",
       "    </tr>\n",
       "    <tr>\n",
       "      <th>149</th>\n",
       "      <td>5.9</td>\n",
       "      <td>3.0</td>\n",
       "      <td>5.1</td>\n",
       "      <td>1.8</td>\n",
       "      <td>0</td>\n",
       "    </tr>\n",
       "  </tbody>\n",
       "</table>\n",
       "<p>150 rows × 5 columns</p>\n",
       "</div>"
      ],
      "text/plain": [
       "       0    1    2    3  4\n",
       "0    5.1  3.5  1.4  0.2  2\n",
       "1    4.9  3.0  1.4  0.2  2\n",
       "2    4.7  3.2  1.3  0.2  2\n",
       "3    4.6  3.1  1.5  0.2  2\n",
       "4    5.0  3.6  1.4  0.2  2\n",
       "..   ...  ...  ...  ... ..\n",
       "145  6.7  3.0  5.2  2.3  0\n",
       "146  6.3  2.5  5.0  1.9  0\n",
       "147  6.5  3.0  5.2  2.0  0\n",
       "148  6.2  3.4  5.4  2.3  0\n",
       "149  5.9  3.0  5.1  1.8  0\n",
       "\n",
       "[150 rows x 5 columns]"
      ]
     },
     "execution_count": 100,
     "metadata": {},
     "output_type": "execute_result"
    }
   ],
   "source": [
    "df_copy=df.copy()\n",
    "df_copy[4].replace({'Iris-setosa':2,'Iris-versicolor':1,'Iris-virginica':0},inplace=True)\n",
    "df_copy"
   ]
  },
  {
   "cell_type": "code",
   "execution_count": 130,
   "metadata": {},
   "outputs": [],
   "source": [
    "conditions=[(df_copy[4]==2),(df_copy[4]==1),(df_copy[4]==0)]\n",
    "values=['0,0,1','1,0,0','0,1,0']\n",
    "df_copy['code'] = np.select(conditions,values)\n",
    "df_copy[['Output[0]','Output[1]','Output[2]']]=df_copy['code'].str.split(',', expand=True)\n",
    "df3=df_copy.copy()\n",
    "df_copy.drop(['code',4],axis='columns',inplace=True)\n"
   ]
  },
  {
   "cell_type": "code",
   "execution_count": 144,
   "metadata": {},
   "outputs": [],
   "source": [
    "df_copy['Output[0]'] = df_copy['Output[0]'].astype(int)\n",
    "df_copy['Output[1]'] = df_copy['Output[1]'].astype(int)\n",
    "df_copy['Output[2]'] = df_copy['Output[2]'].astype(int)"
   ]
  },
  {
   "cell_type": "code",
   "execution_count": 227,
   "metadata": {},
   "outputs": [],
   "source": [
    "\n",
    "X=df_copy.iloc[:,0:4]\n",
    "Y=df_copy.iloc[:,4:]\n"
   ]
  },
  {
   "cell_type": "code",
   "execution_count": 219,
   "metadata": {},
   "outputs": [
    {
     "data": {
      "text/plain": [
       "((105, 4), (45, 4), (105, 3), (45, 3))"
      ]
     },
     "execution_count": 219,
     "metadata": {},
     "output_type": "execute_result"
    }
   ],
   "source": [
    "from tensorflow.keras.models import Sequential\n",
    "from tensorflow.keras.layers import Dense\n",
    "from sklearn.model_selection import train_test_split\n",
    "\n",
    "X_train, X_test , y_train , y_test  = train_test_split(X,Y,test_size = 0.3, random_state  = 1 )\n",
    "X_train.shape,X_test.shape,y_train.shape,y_test.shape\n"
   ]
  },
  {
   "cell_type": "code",
   "execution_count": 220,
   "metadata": {},
   "outputs": [],
   "source": [
    "model = Sequential()\n",
    "model.add(Dense(5,activation ='relu'))\n",
    "model.add(Dense(3,activation = 'softmax'))"
   ]
  },
  {
   "cell_type": "code",
   "execution_count": 221,
   "metadata": {},
   "outputs": [],
   "source": [
    "model.compile(loss='mean_squared_error',optimizer = 'adam')"
   ]
  },
  {
   "cell_type": "code",
   "execution_count": 222,
   "metadata": {},
   "outputs": [
    {
     "name": "stdout",
     "output_type": "stream",
     "text": [
      "Epoch 1/250\n",
      "24/24 - 5s - loss: 0.2870 - val_loss: 0.2918\n",
      "Epoch 2/250\n",
      "24/24 - 0s - loss: 0.2696 - val_loss: 0.2727\n",
      "Epoch 3/250\n",
      "24/24 - 0s - loss: 0.2563 - val_loss: 0.2583\n",
      "Epoch 4/250\n",
      "24/24 - 0s - loss: 0.2467 - val_loss: 0.2486\n",
      "Epoch 5/250\n",
      "24/24 - 0s - loss: 0.2403 - val_loss: 0.2411\n",
      "Epoch 6/250\n",
      "24/24 - 0s - loss: 0.2354 - val_loss: 0.2361\n",
      "Epoch 7/250\n",
      "24/24 - 0s - loss: 0.2321 - val_loss: 0.2319\n",
      "Epoch 8/250\n",
      "24/24 - 0s - loss: 0.2299 - val_loss: 0.2291\n",
      "Epoch 9/250\n",
      "24/24 - 0s - loss: 0.2282 - val_loss: 0.2269\n",
      "Epoch 10/250\n",
      "24/24 - 0s - loss: 0.2268 - val_loss: 0.2252\n",
      "Epoch 11/250\n",
      "24/24 - 0s - loss: 0.2259 - val_loss: 0.2240\n",
      "Epoch 12/250\n",
      "24/24 - 0s - loss: 0.2251 - val_loss: 0.2222\n",
      "Epoch 13/250\n",
      "24/24 - 0s - loss: 0.2242 - val_loss: 0.2215\n",
      "Epoch 14/250\n",
      "24/24 - 0s - loss: 0.2237 - val_loss: 0.2202\n",
      "Epoch 15/250\n",
      "24/24 - 0s - loss: 0.2233 - val_loss: 0.2196\n",
      "Epoch 16/250\n",
      "24/24 - 0s - loss: 0.2229 - val_loss: 0.2189\n",
      "Epoch 17/250\n",
      "24/24 - 0s - loss: 0.2226 - val_loss: 0.2185\n",
      "Epoch 18/250\n",
      "24/24 - 0s - loss: 0.2223 - val_loss: 0.2176\n",
      "Epoch 19/250\n",
      "24/24 - 0s - loss: 0.2220 - val_loss: 0.2171\n",
      "Epoch 20/250\n",
      "24/24 - 0s - loss: 0.2217 - val_loss: 0.2168\n",
      "Epoch 21/250\n",
      "24/24 - 0s - loss: 0.2215 - val_loss: 0.2165\n",
      "Epoch 22/250\n",
      "24/24 - 0s - loss: 0.2214 - val_loss: 0.2163\n",
      "Epoch 23/250\n",
      "24/24 - 0s - loss: 0.2211 - val_loss: 0.2159\n",
      "Epoch 24/250\n",
      "24/24 - 0s - loss: 0.2208 - val_loss: 0.2152\n",
      "Epoch 25/250\n",
      "24/24 - 0s - loss: 0.2206 - val_loss: 0.2145\n",
      "Epoch 26/250\n",
      "24/24 - 0s - loss: 0.2204 - val_loss: 0.2142\n",
      "Epoch 27/250\n",
      "24/24 - 0s - loss: 0.2201 - val_loss: 0.2142\n",
      "Epoch 28/250\n",
      "24/24 - 0s - loss: 0.2199 - val_loss: 0.2132\n",
      "Epoch 29/250\n",
      "24/24 - 0s - loss: 0.2197 - val_loss: 0.2134\n",
      "Epoch 30/250\n",
      "24/24 - 0s - loss: 0.2194 - val_loss: 0.2123\n",
      "Epoch 31/250\n",
      "24/24 - 0s - loss: 0.2189 - val_loss: 0.2120\n",
      "Epoch 32/250\n",
      "24/24 - 0s - loss: 0.2187 - val_loss: 0.2116\n",
      "Epoch 33/250\n",
      "24/24 - 0s - loss: 0.2183 - val_loss: 0.2111\n",
      "Epoch 34/250\n",
      "24/24 - 0s - loss: 0.2180 - val_loss: 0.2109\n",
      "Epoch 35/250\n",
      "24/24 - 0s - loss: 0.2176 - val_loss: 0.2107\n",
      "Epoch 36/250\n",
      "24/24 - 0s - loss: 0.2172 - val_loss: 0.2098\n",
      "Epoch 37/250\n",
      "24/24 - 0s - loss: 0.2166 - val_loss: 0.2092\n",
      "Epoch 38/250\n",
      "24/24 - 0s - loss: 0.2161 - val_loss: 0.2084\n",
      "Epoch 39/250\n",
      "24/24 - 0s - loss: 0.2158 - val_loss: 0.2078\n",
      "Epoch 40/250\n",
      "24/24 - 0s - loss: 0.2150 - val_loss: 0.2067\n",
      "Epoch 41/250\n",
      "24/24 - 0s - loss: 0.2145 - val_loss: 0.2060\n",
      "Epoch 42/250\n",
      "24/24 - 0s - loss: 0.2137 - val_loss: 0.2051\n",
      "Epoch 43/250\n",
      "24/24 - 0s - loss: 0.2130 - val_loss: 0.2046\n",
      "Epoch 44/250\n",
      "24/24 - 0s - loss: 0.2122 - val_loss: 0.2035\n",
      "Epoch 45/250\n",
      "24/24 - 0s - loss: 0.2113 - val_loss: 0.2024\n",
      "Epoch 46/250\n",
      "24/24 - 0s - loss: 0.2106 - val_loss: 0.2016\n",
      "Epoch 47/250\n",
      "24/24 - 0s - loss: 0.2095 - val_loss: 0.1999\n",
      "Epoch 48/250\n",
      "24/24 - 0s - loss: 0.2086 - val_loss: 0.1993\n",
      "Epoch 49/250\n",
      "24/24 - 0s - loss: 0.2073 - val_loss: 0.1981\n",
      "Epoch 50/250\n",
      "24/24 - 0s - loss: 0.2062 - val_loss: 0.1973\n",
      "Epoch 51/250\n",
      "24/24 - 0s - loss: 0.2049 - val_loss: 0.1960\n",
      "Epoch 52/250\n",
      "24/24 - 0s - loss: 0.2037 - val_loss: 0.1946\n",
      "Epoch 53/250\n",
      "24/24 - 0s - loss: 0.2022 - val_loss: 0.1930\n",
      "Epoch 54/250\n",
      "24/24 - 0s - loss: 0.2007 - val_loss: 0.1920\n",
      "Epoch 55/250\n",
      "24/24 - 0s - loss: 0.1991 - val_loss: 0.1906\n",
      "Epoch 56/250\n",
      "24/24 - 0s - loss: 0.1975 - val_loss: 0.1894\n",
      "Epoch 57/250\n",
      "24/24 - 0s - loss: 0.1957 - val_loss: 0.1871\n",
      "Epoch 58/250\n",
      "24/24 - 1s - loss: 0.1938 - val_loss: 0.1847\n",
      "Epoch 59/250\n",
      "24/24 - 0s - loss: 0.1916 - val_loss: 0.1825\n",
      "Epoch 60/250\n",
      "24/24 - 1s - loss: 0.1895 - val_loss: 0.1816\n",
      "Epoch 61/250\n",
      "24/24 - 1s - loss: 0.1870 - val_loss: 0.1789\n",
      "Epoch 62/250\n",
      "24/24 - 0s - loss: 0.1847 - val_loss: 0.1778\n",
      "Epoch 63/250\n",
      "24/24 - 0s - loss: 0.1816 - val_loss: 0.1754\n",
      "Epoch 64/250\n",
      "24/24 - 0s - loss: 0.1790 - val_loss: 0.1729\n",
      "Epoch 65/250\n",
      "24/24 - 0s - loss: 0.1763 - val_loss: 0.1705\n",
      "Epoch 66/250\n",
      "24/24 - 0s - loss: 0.1739 - val_loss: 0.1679\n",
      "Epoch 67/250\n",
      "24/24 - 1s - loss: 0.1716 - val_loss: 0.1651\n",
      "Epoch 68/250\n",
      "24/24 - 1s - loss: 0.1698 - val_loss: 0.1623\n",
      "Epoch 69/250\n",
      "24/24 - 1s - loss: 0.1675 - val_loss: 0.1604\n",
      "Epoch 70/250\n",
      "24/24 - 0s - loss: 0.1659 - val_loss: 0.1583\n",
      "Epoch 71/250\n",
      "24/24 - 0s - loss: 0.1638 - val_loss: 0.1569\n",
      "Epoch 72/250\n",
      "24/24 - 0s - loss: 0.1621 - val_loss: 0.1550\n",
      "Epoch 73/250\n",
      "24/24 - 0s - loss: 0.1604 - val_loss: 0.1531\n",
      "Epoch 74/250\n",
      "24/24 - 0s - loss: 0.1587 - val_loss: 0.1517\n",
      "Epoch 75/250\n",
      "24/24 - 0s - loss: 0.1570 - val_loss: 0.1502\n",
      "Epoch 76/250\n",
      "24/24 - 0s - loss: 0.1555 - val_loss: 0.1484\n",
      "Epoch 77/250\n",
      "24/24 - 0s - loss: 0.1539 - val_loss: 0.1480\n",
      "Epoch 78/250\n",
      "24/24 - 0s - loss: 0.1526 - val_loss: 0.1469\n",
      "Epoch 79/250\n",
      "24/24 - 0s - loss: 0.1513 - val_loss: 0.1443\n",
      "Epoch 80/250\n",
      "24/24 - 0s - loss: 0.1495 - val_loss: 0.1443\n",
      "Epoch 81/250\n",
      "24/24 - 1s - loss: 0.1480 - val_loss: 0.1428\n",
      "Epoch 82/250\n",
      "24/24 - 1s - loss: 0.1469 - val_loss: 0.1428\n",
      "Epoch 83/250\n",
      "24/24 - 0s - loss: 0.1454 - val_loss: 0.1403\n",
      "Epoch 84/250\n",
      "24/24 - 0s - loss: 0.1439 - val_loss: 0.1390\n",
      "Epoch 85/250\n",
      "24/24 - 0s - loss: 0.1425 - val_loss: 0.1382\n",
      "Epoch 86/250\n",
      "24/24 - 0s - loss: 0.1414 - val_loss: 0.1376\n",
      "Epoch 87/250\n",
      "24/24 - 0s - loss: 0.1400 - val_loss: 0.1362\n",
      "Epoch 88/250\n",
      "24/24 - 0s - loss: 0.1388 - val_loss: 0.1349\n",
      "Epoch 89/250\n",
      "24/24 - 0s - loss: 0.1376 - val_loss: 0.1338\n",
      "Epoch 90/250\n",
      "24/24 - 0s - loss: 0.1364 - val_loss: 0.1333\n",
      "Epoch 91/250\n",
      "24/24 - 0s - loss: 0.1352 - val_loss: 0.1323\n",
      "Epoch 92/250\n",
      "24/24 - 0s - loss: 0.1341 - val_loss: 0.1311\n",
      "Epoch 93/250\n",
      "24/24 - 0s - loss: 0.1329 - val_loss: 0.1303\n",
      "Epoch 94/250\n",
      "24/24 - 0s - loss: 0.1319 - val_loss: 0.1296\n",
      "Epoch 95/250\n",
      "24/24 - 0s - loss: 0.1309 - val_loss: 0.1283\n",
      "Epoch 96/250\n",
      "24/24 - 0s - loss: 0.1298 - val_loss: 0.1279\n",
      "Epoch 97/250\n",
      "24/24 - 0s - loss: 0.1288 - val_loss: 0.1270\n",
      "Epoch 98/250\n",
      "24/24 - 0s - loss: 0.1279 - val_loss: 0.1267\n",
      "Epoch 99/250\n",
      "24/24 - 0s - loss: 0.1268 - val_loss: 0.1254\n",
      "Epoch 100/250\n",
      "24/24 - 0s - loss: 0.1259 - val_loss: 0.1246\n",
      "Epoch 101/250\n",
      "24/24 - 0s - loss: 0.1249 - val_loss: 0.1245\n",
      "Epoch 102/250\n",
      "24/24 - 0s - loss: 0.1240 - val_loss: 0.1233\n",
      "Epoch 103/250\n",
      "24/24 - 0s - loss: 0.1231 - val_loss: 0.1224\n",
      "Epoch 104/250\n",
      "24/24 - 0s - loss: 0.1222 - val_loss: 0.1222\n",
      "Epoch 105/250\n",
      "24/24 - 0s - loss: 0.1214 - val_loss: 0.1212\n",
      "Epoch 106/250\n",
      "24/24 - 0s - loss: 0.1206 - val_loss: 0.1207\n",
      "Epoch 107/250\n",
      "24/24 - 0s - loss: 0.1196 - val_loss: 0.1200\n",
      "Epoch 108/250\n",
      "24/24 - 0s - loss: 0.1189 - val_loss: 0.1204\n",
      "Epoch 109/250\n",
      "24/24 - 0s - loss: 0.1181 - val_loss: 0.1187\n",
      "Epoch 110/250\n",
      "24/24 - 0s - loss: 0.1172 - val_loss: 0.1183\n",
      "Epoch 111/250\n",
      "24/24 - 0s - loss: 0.1165 - val_loss: 0.1173\n",
      "Epoch 112/250\n",
      "24/24 - 0s - loss: 0.1157 - val_loss: 0.1171\n",
      "Epoch 113/250\n",
      "24/24 - 0s - loss: 0.1152 - val_loss: 0.1168\n",
      "Epoch 114/250\n",
      "24/24 - 0s - loss: 0.1142 - val_loss: 0.1158\n",
      "Epoch 115/250\n",
      "24/24 - 0s - loss: 0.1135 - val_loss: 0.1151\n",
      "Epoch 116/250\n",
      "24/24 - 0s - loss: 0.1130 - val_loss: 0.1156\n",
      "Epoch 117/250\n",
      "24/24 - 0s - loss: 0.1121 - val_loss: 0.1141\n",
      "Epoch 118/250\n",
      "24/24 - 0s - loss: 0.1115 - val_loss: 0.1136\n",
      "Epoch 119/250\n",
      "24/24 - 0s - loss: 0.1110 - val_loss: 0.1143\n",
      "Epoch 120/250\n",
      "24/24 - 0s - loss: 0.1101 - val_loss: 0.1129\n",
      "Epoch 121/250\n",
      "24/24 - 0s - loss: 0.1095 - val_loss: 0.1122\n",
      "Epoch 122/250\n",
      "24/24 - 0s - loss: 0.1090 - val_loss: 0.1121\n",
      "Epoch 123/250\n",
      "24/24 - 0s - loss: 0.1086 - val_loss: 0.1110\n",
      "Epoch 124/250\n",
      "24/24 - 0s - loss: 0.1077 - val_loss: 0.1117\n",
      "Epoch 125/250\n",
      "24/24 - 0s - loss: 0.1070 - val_loss: 0.1112\n",
      "Epoch 126/250\n",
      "24/24 - 0s - loss: 0.1065 - val_loss: 0.1102\n",
      "Epoch 127/250\n",
      "24/24 - 0s - loss: 0.1059 - val_loss: 0.1097\n",
      "Epoch 128/250\n",
      "24/24 - 0s - loss: 0.1053 - val_loss: 0.1090\n",
      "Epoch 129/250\n",
      "24/24 - 0s - loss: 0.1049 - val_loss: 0.1085\n",
      "Epoch 130/250\n",
      "24/24 - 0s - loss: 0.1041 - val_loss: 0.1089\n",
      "Epoch 131/250\n",
      "24/24 - 0s - loss: 0.1036 - val_loss: 0.1091\n",
      "Epoch 132/250\n",
      "24/24 - 1s - loss: 0.1031 - val_loss: 0.1082\n",
      "Epoch 133/250\n",
      "24/24 - 1s - loss: 0.1028 - val_loss: 0.1086\n",
      "Epoch 134/250\n",
      "24/24 - 0s - loss: 0.1021 - val_loss: 0.1069\n",
      "Epoch 135/250\n",
      "24/24 - 0s - loss: 0.1016 - val_loss: 0.1068\n",
      "Epoch 136/250\n",
      "24/24 - 0s - loss: 0.1010 - val_loss: 0.1069\n",
      "Epoch 137/250\n",
      "24/24 - 0s - loss: 0.1007 - val_loss: 0.1056\n",
      "Epoch 138/250\n",
      "24/24 - 0s - loss: 0.1000 - val_loss: 0.1060\n",
      "Epoch 139/250\n",
      "24/24 - 0s - loss: 0.0997 - val_loss: 0.1066\n",
      "Epoch 140/250\n",
      "24/24 - 0s - loss: 0.0989 - val_loss: 0.1050\n",
      "Epoch 141/250\n",
      "24/24 - 0s - loss: 0.0985 - val_loss: 0.1043\n"
     ]
    },
    {
     "name": "stdout",
     "output_type": "stream",
     "text": [
      "Epoch 142/250\n",
      "24/24 - 0s - loss: 0.0981 - val_loss: 0.1035\n",
      "Epoch 143/250\n",
      "24/24 - 0s - loss: 0.0975 - val_loss: 0.1042\n",
      "Epoch 144/250\n",
      "24/24 - 0s - loss: 0.0973 - val_loss: 0.1035\n",
      "Epoch 145/250\n",
      "24/24 - 0s - loss: 0.0966 - val_loss: 0.1034\n",
      "Epoch 146/250\n",
      "24/24 - 0s - loss: 0.0964 - val_loss: 0.1040\n",
      "Epoch 147/250\n",
      "24/24 - 0s - loss: 0.0957 - val_loss: 0.1028\n",
      "Epoch 148/250\n",
      "24/24 - 0s - loss: 0.0953 - val_loss: 0.1018\n",
      "Epoch 149/250\n",
      "24/24 - 0s - loss: 0.0949 - val_loss: 0.1016\n",
      "Epoch 150/250\n",
      "24/24 - 0s - loss: 0.0947 - val_loss: 0.1010\n",
      "Epoch 151/250\n",
      "24/24 - 0s - loss: 0.0941 - val_loss: 0.1012\n",
      "Epoch 152/250\n",
      "24/24 - 0s - loss: 0.0935 - val_loss: 0.1011\n",
      "Epoch 153/250\n",
      "24/24 - 0s - loss: 0.0932 - val_loss: 0.0997\n",
      "Epoch 154/250\n",
      "24/24 - 0s - loss: 0.0932 - val_loss: 0.1010\n",
      "Epoch 155/250\n",
      "24/24 - 0s - loss: 0.0923 - val_loss: 0.1000\n",
      "Epoch 156/250\n",
      "24/24 - 0s - loss: 0.0919 - val_loss: 0.0993\n",
      "Epoch 157/250\n",
      "24/24 - 0s - loss: 0.0915 - val_loss: 0.0994\n",
      "Epoch 158/250\n",
      "24/24 - 0s - loss: 0.0919 - val_loss: 0.0988\n",
      "Epoch 159/250\n",
      "24/24 - 0s - loss: 0.0909 - val_loss: 0.0982\n",
      "Epoch 160/250\n",
      "24/24 - 0s - loss: 0.0905 - val_loss: 0.0991\n",
      "Epoch 161/250\n",
      "24/24 - 0s - loss: 0.0901 - val_loss: 0.0980\n",
      "Epoch 162/250\n",
      "24/24 - 0s - loss: 0.0897 - val_loss: 0.0985\n",
      "Epoch 163/250\n",
      "24/24 - 0s - loss: 0.0891 - val_loss: 0.0984\n",
      "Epoch 164/250\n",
      "24/24 - 0s - loss: 0.0889 - val_loss: 0.0974\n",
      "Epoch 165/250\n",
      "24/24 - 0s - loss: 0.0884 - val_loss: 0.0972\n",
      "Epoch 166/250\n",
      "24/24 - 0s - loss: 0.0884 - val_loss: 0.0977\n",
      "Epoch 167/250\n",
      "24/24 - 0s - loss: 0.0879 - val_loss: 0.0965\n",
      "Epoch 168/250\n",
      "24/24 - 0s - loss: 0.0874 - val_loss: 0.0957\n",
      "Epoch 169/250\n",
      "24/24 - 0s - loss: 0.0869 - val_loss: 0.0959\n",
      "Epoch 170/250\n",
      "24/24 - 0s - loss: 0.0868 - val_loss: 0.0971\n",
      "Epoch 171/250\n",
      "24/24 - 0s - loss: 0.0864 - val_loss: 0.0954\n",
      "Epoch 172/250\n",
      "24/24 - 0s - loss: 0.0858 - val_loss: 0.0956\n",
      "Epoch 173/250\n",
      "24/24 - 0s - loss: 0.0855 - val_loss: 0.0958\n",
      "Epoch 174/250\n",
      "24/24 - 0s - loss: 0.0853 - val_loss: 0.0950\n",
      "Epoch 175/250\n",
      "24/24 - 0s - loss: 0.0849 - val_loss: 0.0954\n",
      "Epoch 176/250\n",
      "24/24 - 0s - loss: 0.0845 - val_loss: 0.0946\n",
      "Epoch 177/250\n",
      "24/24 - 0s - loss: 0.0840 - val_loss: 0.0942\n",
      "Epoch 178/250\n",
      "24/24 - 0s - loss: 0.0843 - val_loss: 0.0931\n",
      "Epoch 179/250\n",
      "24/24 - 0s - loss: 0.0832 - val_loss: 0.0945\n",
      "Epoch 180/250\n",
      "24/24 - 0s - loss: 0.0832 - val_loss: 0.0951\n",
      "Epoch 181/250\n",
      "24/24 - 0s - loss: 0.0826 - val_loss: 0.0935\n",
      "Epoch 182/250\n",
      "24/24 - 0s - loss: 0.0823 - val_loss: 0.0925\n",
      "Epoch 183/250\n",
      "24/24 - 0s - loss: 0.0821 - val_loss: 0.0932\n",
      "Epoch 184/250\n",
      "24/24 - 0s - loss: 0.0816 - val_loss: 0.0928\n",
      "Epoch 185/250\n",
      "24/24 - 0s - loss: 0.0814 - val_loss: 0.0922\n",
      "Epoch 186/250\n",
      "24/24 - 0s - loss: 0.0810 - val_loss: 0.0925\n",
      "Epoch 187/250\n",
      "24/24 - 0s - loss: 0.0808 - val_loss: 0.0924\n",
      "Epoch 188/250\n",
      "24/24 - 0s - loss: 0.0805 - val_loss: 0.0934\n",
      "Epoch 189/250\n",
      "24/24 - 0s - loss: 0.0801 - val_loss: 0.0909\n",
      "Epoch 190/250\n",
      "24/24 - 0s - loss: 0.0796 - val_loss: 0.0912\n",
      "Epoch 191/250\n",
      "24/24 - 0s - loss: 0.0794 - val_loss: 0.0910\n",
      "Epoch 192/250\n",
      "24/24 - 0s - loss: 0.0791 - val_loss: 0.0912\n",
      "Epoch 193/250\n",
      "24/24 - 0s - loss: 0.0786 - val_loss: 0.0902\n",
      "Epoch 194/250\n",
      "24/24 - 0s - loss: 0.0783 - val_loss: 0.0897\n",
      "Epoch 195/250\n",
      "24/24 - 0s - loss: 0.0779 - val_loss: 0.0904\n",
      "Epoch 196/250\n",
      "24/24 - 0s - loss: 0.0778 - val_loss: 0.0893\n",
      "Epoch 197/250\n",
      "24/24 - 0s - loss: 0.0773 - val_loss: 0.0901\n",
      "Epoch 198/250\n",
      "24/24 - 0s - loss: 0.0770 - val_loss: 0.0900\n",
      "Epoch 199/250\n",
      "24/24 - 0s - loss: 0.0767 - val_loss: 0.0892\n",
      "Epoch 200/250\n",
      "24/24 - 0s - loss: 0.0763 - val_loss: 0.0892\n",
      "Epoch 201/250\n",
      "24/24 - 0s - loss: 0.0760 - val_loss: 0.0896\n",
      "Epoch 202/250\n",
      "24/24 - 0s - loss: 0.0760 - val_loss: 0.0885\n",
      "Epoch 203/250\n",
      "24/24 - 0s - loss: 0.0756 - val_loss: 0.0899\n",
      "Epoch 204/250\n",
      "24/24 - 0s - loss: 0.0751 - val_loss: 0.0897\n",
      "Epoch 205/250\n",
      "24/24 - 0s - loss: 0.0747 - val_loss: 0.0887\n",
      "Epoch 206/250\n",
      "24/24 - 0s - loss: 0.0743 - val_loss: 0.0882\n",
      "Epoch 207/250\n",
      "24/24 - 0s - loss: 0.0740 - val_loss: 0.0878\n",
      "Epoch 208/250\n",
      "24/24 - 0s - loss: 0.0743 - val_loss: 0.0897\n",
      "Epoch 209/250\n",
      "24/24 - 0s - loss: 0.0735 - val_loss: 0.0867\n",
      "Epoch 210/250\n",
      "24/24 - 0s - loss: 0.0731 - val_loss: 0.0877\n",
      "Epoch 211/250\n",
      "24/24 - 0s - loss: 0.0728 - val_loss: 0.0868\n",
      "Epoch 212/250\n",
      "24/24 - 0s - loss: 0.0724 - val_loss: 0.0872\n",
      "Epoch 213/250\n",
      "24/24 - 0s - loss: 0.0722 - val_loss: 0.0868\n",
      "Epoch 214/250\n",
      "24/24 - 0s - loss: 0.0719 - val_loss: 0.0875\n",
      "Epoch 215/250\n",
      "24/24 - 0s - loss: 0.0715 - val_loss: 0.0872\n",
      "Epoch 216/250\n",
      "24/24 - 0s - loss: 0.0713 - val_loss: 0.0862\n",
      "Epoch 217/250\n",
      "24/24 - 0s - loss: 0.0710 - val_loss: 0.0861\n",
      "Epoch 218/250\n",
      "24/24 - 0s - loss: 0.0706 - val_loss: 0.0865\n",
      "Epoch 219/250\n",
      "24/24 - 0s - loss: 0.0706 - val_loss: 0.0844\n",
      "Epoch 220/250\n",
      "24/24 - 0s - loss: 0.0702 - val_loss: 0.0856\n",
      "Epoch 221/250\n",
      "24/24 - 0s - loss: 0.0696 - val_loss: 0.0857\n",
      "Epoch 222/250\n",
      "24/24 - 0s - loss: 0.0694 - val_loss: 0.0851\n",
      "Epoch 223/250\n",
      "24/24 - 0s - loss: 0.0692 - val_loss: 0.0858\n",
      "Epoch 224/250\n",
      "24/24 - 0s - loss: 0.0688 - val_loss: 0.0840\n",
      "Epoch 225/250\n",
      "24/24 - 0s - loss: 0.0689 - val_loss: 0.0859\n",
      "Epoch 226/250\n",
      "24/24 - 0s - loss: 0.0681 - val_loss: 0.0839\n",
      "Epoch 227/250\n",
      "24/24 - 0s - loss: 0.0679 - val_loss: 0.0844\n",
      "Epoch 228/250\n",
      "24/24 - 0s - loss: 0.0677 - val_loss: 0.0827\n",
      "Epoch 229/250\n",
      "24/24 - 0s - loss: 0.0673 - val_loss: 0.0835\n",
      "Epoch 230/250\n",
      "24/24 - 0s - loss: 0.0670 - val_loss: 0.0830\n",
      "Epoch 231/250\n",
      "24/24 - 0s - loss: 0.0668 - val_loss: 0.0839\n",
      "Epoch 232/250\n",
      "24/24 - 0s - loss: 0.0663 - val_loss: 0.0835\n",
      "Epoch 233/250\n",
      "24/24 - 0s - loss: 0.0663 - val_loss: 0.0824\n",
      "Epoch 234/250\n",
      "24/24 - 0s - loss: 0.0658 - val_loss: 0.0831\n",
      "Epoch 235/250\n",
      "24/24 - 0s - loss: 0.0656 - val_loss: 0.0837\n",
      "Epoch 236/250\n",
      "24/24 - 0s - loss: 0.0652 - val_loss: 0.0829\n",
      "Epoch 237/250\n",
      "24/24 - 0s - loss: 0.0654 - val_loss: 0.0817\n",
      "Epoch 238/250\n",
      "24/24 - 0s - loss: 0.0645 - val_loss: 0.0825\n",
      "Epoch 239/250\n",
      "24/24 - 0s - loss: 0.0642 - val_loss: 0.0820\n",
      "Epoch 240/250\n",
      "24/24 - 0s - loss: 0.0640 - val_loss: 0.0820\n",
      "Epoch 241/250\n",
      "24/24 - 0s - loss: 0.0638 - val_loss: 0.0828\n",
      "Epoch 242/250\n",
      "24/24 - 0s - loss: 0.0634 - val_loss: 0.0823\n",
      "Epoch 243/250\n",
      "24/24 - 0s - loss: 0.0633 - val_loss: 0.0808\n",
      "Epoch 244/250\n",
      "24/24 - 0s - loss: 0.0632 - val_loss: 0.0803\n",
      "Epoch 245/250\n",
      "24/24 - 0s - loss: 0.0629 - val_loss: 0.0834\n",
      "Epoch 246/250\n",
      "24/24 - 0s - loss: 0.0625 - val_loss: 0.0810\n",
      "Epoch 247/250\n",
      "24/24 - 0s - loss: 0.0621 - val_loss: 0.0822\n",
      "Epoch 248/250\n",
      "24/24 - 0s - loss: 0.0619 - val_loss: 0.0824\n",
      "Epoch 249/250\n",
      "24/24 - 0s - loss: 0.0614 - val_loss: 0.0800\n",
      "Epoch 250/250\n",
      "24/24 - 0s - loss: 0.0611 - val_loss: 0.0796\n"
     ]
    },
    {
     "data": {
      "text/plain": [
       "<keras.callbacks.History at 0x29883832978>"
      ]
     },
     "execution_count": 222,
     "metadata": {},
     "output_type": "execute_result"
    }
   ],
   "source": [
    "model.fit(X_train, y_train, shuffle=True, validation_split=0.1,\n",
    "          batch_size=4, epochs= 250, verbose=2)"
   ]
  },
  {
   "cell_type": "code",
   "execution_count": 223,
   "metadata": {},
   "outputs": [
    {
     "data": {
      "text/plain": [
       "array([2, 0, 0, 2, 1, 1, 1, 2, 2, 1, 0, 2, 1, 0, 0, 2, 0, 0, 2, 2, 0, 1,\n",
       "       1, 2, 1, 0, 2, 2, 0, 1, 0, 1, 0, 1, 1, 2, 0, 2, 0, 1, 1, 2, 1, 1,\n",
       "       0], dtype=int64)"
      ]
     },
     "execution_count": 223,
     "metadata": {},
     "output_type": "execute_result"
    }
   ],
   "source": [
    "pred_y1=model.predict(X_test)\n",
    "pred_y2 = np.argmax(pred_y1,axis=1)\n",
    "pred_y2"
   ]
  },
  {
   "cell_type": "code",
   "execution_count": 224,
   "metadata": {},
   "outputs": [
    {
     "name": "stdout",
     "output_type": "stream",
     "text": [
      "(45, 3) (45,)\n"
     ]
    }
   ],
   "source": [
    "print(y_test.shape, pred_y2.shape)"
   ]
  },
  {
   "cell_type": "code",
   "execution_count": 225,
   "metadata": {},
   "outputs": [
    {
     "data": {
      "text/plain": [
       "array([2, 0, 0, 2, 1, 0, 1, 2, 2, 1, 0, 2, 1, 0, 0, 2, 0, 0, 2, 2, 0, 0,\n",
       "       0, 2, 1, 0, 2, 2, 0, 1, 0, 1, 0, 1, 1, 2, 0, 2, 0, 1, 1, 2, 1, 1,\n",
       "       0], dtype=int64)"
      ]
     },
     "execution_count": 225,
     "metadata": {},
     "output_type": "execute_result"
    }
   ],
   "source": [
    "pred_y3 = np.argmax(y_test.to_numpy(),axis=1)\n",
    "pred_y3"
   ]
  },
  {
   "cell_type": "code",
   "execution_count": 226,
   "metadata": {},
   "outputs": [
    {
     "name": "stdout",
     "output_type": "stream",
     "text": [
      "              precision    recall  f1-score   support\n",
      "\n",
      "           0       1.00      0.83      0.91        18\n",
      "           1       0.81      1.00      0.90        13\n",
      "           2       1.00      1.00      1.00        14\n",
      "\n",
      "    accuracy                           0.93        45\n",
      "   macro avg       0.94      0.94      0.94        45\n",
      "weighted avg       0.95      0.93      0.93        45\n",
      "\n"
     ]
    }
   ],
   "source": [
    "from sklearn.metrics import classification_report\n",
    "print(classification_report(pred_y3, pred_y2))"
   ]
  },
  {
   "cell_type": "code",
   "execution_count": null,
   "metadata": {
    "id": "s1I_7TDwC437"
   },
   "outputs": [],
   "source": [
    "Write your code here"
   ]
  }
 ],
 "metadata": {
  "colab": {
   "collapsed_sections": [],
   "name": "lab-2.ipynb",
   "provenance": []
  },
  "kernelspec": {
   "display_name": "Python 3",
   "language": "python",
   "name": "python3"
  },
  "language_info": {
   "codemirror_mode": {
    "name": "ipython",
    "version": 3
   },
   "file_extension": ".py",
   "mimetype": "text/x-python",
   "name": "python",
   "nbconvert_exporter": "python",
   "pygments_lexer": "ipython3",
   "version": "3.6.13"
  }
 },
 "nbformat": 4,
 "nbformat_minor": 1
}
