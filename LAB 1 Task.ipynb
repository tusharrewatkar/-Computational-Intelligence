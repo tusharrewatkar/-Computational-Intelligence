{
 "cells": [
  {
   "cell_type": "markdown",
   "id": "c515826c",
   "metadata": {},
   "source": [
    "# Computational Intelligence\n",
    "\n",
    "Laboratories\n",
    "\n"
   ]
  },
  {
   "cell_type": "markdown",
   "id": "f30f5ac6",
   "metadata": {},
   "source": [
    "# Python\n",
    "\n",
    "Language mostly used for data science.\n",
    "* simple and powerful syntax\n",
    "* flexible - many modules and system for their instalation\n",
    "* used worldwide \n",
    "* graphics\n",
    "* online interpreter\n",
    "\n",
    "\n",
    "## Version\n",
    "\n",
    "Versions 2.x and 3.x are not fully compatible. Last is 3.9.6.\n",
    "Use version 3.x or above for this course.\n",
    "\n",
    "https://www.python.org/\n",
    "\n",
    "\n",
    "On Linux systems you can install packages according to the distribution you are using. \n",
    "For example on Ubuntu, you can use the `apt-get install python3` command. \n",
    "\n",
    "On Windows 10, we recommend to install Anaconda containing Python and sophisticated packaging system\n",
    "for installing additional libraries. The Ananconda supports GPUs, if you have a NVIDIA graphic card on your computer.\n",
    "\n",
    "Another alternative is to use WSL (Windows Subsystem on Linux) to install Ubuntu on your computer. \n",
    "Python3 is working well on WSL Ubuntu, but GPUs are not available yet.\n",
    "\n",
    "## IDE\n",
    "\n",
    "Many products are available. For serious coding we recomend PyCharm. \n",
    "\n",
    "https://www.jetbrains.com/pycharm/\n",
    "\n",
    "* separate environments for each project\n",
    "* posibility to switch interpreter\n",
    "\n",
    "An alternative is to use Visual Studio Code (From Microsoft). It supports Jupyter notebooks on contrary to Pycham community version.\n",
    "\n",
    "\n",
    "## Jupyter\n",
    "\n",
    "Using Jupyter notebooks is an easy way how to interactively write programs in Python3. It can be installed under Linux distributions. On Ubuntu, use `apt-get install jupyter` command.\n",
    "\n",
    "Jupyter notebooks are also supported by Anaconda under Windows 10.\n",
    "\n",
    "## Google Colab\n",
    "\n",
    "Open environment for data processing in Python based on Jupyter notebooks.\n",
    "\n",
    "Google Colab providing CPUs and also GPUs for data processing. You need Google account to access Colab. If you do not have such account, please, create it.\n",
    "\n",
    "Google Colab is accesible by https://colab.research.google.com.\n",
    "\n",
    "Specific settings - https://www.javatpoint.com/python-programming-with-google-colab\n",
    "\n",
    "## The Python Programming Language\n",
    "\n",
    "Introduction - \n",
    "https://docs.python.org/3/tutorial/index.html\n",
    "\n",
    "Basic structures the same as in other languages.\n",
    "\n",
    "Very good tutorial is https://www.w3schools.com/python/default.asp\n",
    "\n"
   ]
  },
  {
   "cell_type": "markdown",
   "id": "4fa1ebd9",
   "metadata": {},
   "source": [
    "# Example 1\n",
    "\n",
    "Print the prime numbers from 1 to 100."
   ]
  },
  {
   "cell_type": "code",
   "execution_count": 25,
   "id": "d4a60180",
   "metadata": {},
   "outputs": [
    {
     "name": "stdout",
     "output_type": "stream",
     "text": [
      "0\n",
      "1\n",
      "2\n",
      "3\n",
      "5\n",
      "7\n",
      "11\n",
      "13\n",
      "17\n",
      "19\n",
      "23\n",
      "29\n",
      "31\n",
      "37\n",
      "41\n",
      "43\n",
      "47\n",
      "53\n",
      "59\n",
      "61\n",
      "67\n",
      "71\n",
      "73\n",
      "79\n",
      "83\n",
      "89\n",
      "97\n"
     ]
    }
   ],
   "source": [
    "# Example 1\n",
    "for i in range(101):\n",
    "  prime=True\n",
    "  j=2\n",
    "  while prime and j<i:\n",
    "    if (i % (j))==0:\n",
    "      prime=False\n",
    "    j+=1\n",
    "  if prime:\n",
    "    print(i)"
   ]
  },
  {
   "cell_type": "markdown",
   "id": "f15bcf18",
   "metadata": {},
   "source": [
    "# Task 1\n",
    "\n",
    "Modify previous example and define function for testing if the number is a prime number."
   ]
  },
  {
   "cell_type": "code",
   "execution_count": 26,
   "id": "ca4b849a",
   "metadata": {},
   "outputs": [
    {
     "name": "stdout",
     "output_type": "stream",
     "text": [
      "0\n",
      "1\n",
      "2\n",
      "3\n",
      "5\n",
      "7\n",
      "11\n",
      "13\n",
      "17\n",
      "19\n",
      "23\n",
      "29\n",
      "31\n",
      "37\n",
      "41\n",
      "43\n",
      "47\n",
      "53\n",
      "59\n",
      "61\n",
      "67\n",
      "71\n",
      "73\n",
      "79\n",
      "83\n",
      "89\n",
      "97\n"
     ]
    }
   ],
   "source": [
    "Write your code here"
   ]
  },
  {
   "cell_type": "code",
   "execution_count": 1,
   "id": "8c0b0418",
   "metadata": {},
   "outputs": [
    {
     "name": "stdout",
     "output_type": "stream",
     "text": [
      "2\n",
      "3\n",
      "5\n",
      "7\n",
      "11\n",
      "13\n",
      "17\n",
      "19\n",
      "23\n",
      "29\n",
      "31\n",
      "37\n",
      "41\n",
      "43\n",
      "47\n",
      "53\n",
      "59\n",
      "61\n",
      "67\n",
      "71\n",
      "73\n",
      "79\n",
      "83\n",
      "89\n",
      "97\n"
     ]
    }
   ],
   "source": [
    "def prime(x):\n",
    "    for num in range(0, x + 1):\n",
    "        if num > 1:\n",
    "            for i in range(2, num):\n",
    "                if (num % i) == 0:\n",
    "                    break\n",
    "            else:\n",
    "                print(num)\n",
    "prime(100)"
   ]
  },
  {
   "cell_type": "markdown",
   "id": "297b7c26",
   "metadata": {},
   "source": [
    "# Task 2\n",
    "\n",
    "Modify the previous task and define class finding the prime numbers in selected range.\n"
   ]
  },
  {
   "cell_type": "code",
   "execution_count": 27,
   "id": "2cebd6c6",
   "metadata": {},
   "outputs": [
    {
     "name": "stdout",
     "output_type": "stream",
     "text": [
      "0\n",
      "1\n",
      "2\n",
      "3\n",
      "5\n",
      "7\n",
      "11\n",
      "13\n",
      "17\n",
      "19\n",
      "23\n",
      "29\n",
      "31\n",
      "37\n",
      "41\n",
      "43\n",
      "47\n",
      "53\n",
      "59\n",
      "61\n",
      "67\n",
      "71\n",
      "73\n",
      "79\n",
      "83\n",
      "89\n",
      "97\n"
     ]
    }
   ],
   "source": [
    "Write your code here"
   ]
  },
  {
   "cell_type": "code",
   "execution_count": 4,
   "id": "6a064559",
   "metadata": {},
   "outputs": [
    {
     "name": "stdout",
     "output_type": "stream",
     "text": [
      "2\n",
      "3\n",
      "5\n",
      "7\n",
      "11\n",
      "13\n",
      "17\n",
      "19\n",
      "23\n",
      "29\n",
      "31\n",
      "37\n",
      "41\n",
      "43\n",
      "47\n",
      "53\n",
      "59\n",
      "61\n",
      "67\n",
      "71\n",
      "73\n",
      "79\n",
      "83\n",
      "89\n",
      "97\n"
     ]
    }
   ],
   "source": [
    "class PN:\n",
    "    def __init__(self,num):\n",
    "        self.num=num\n",
    "        \n",
    "    def prime(self):\n",
    "        for i in range(0, self.num + 1):\n",
    "            if i > 1:\n",
    "                for j in range(2, i):\n",
    "                    if (i % j) == 0:\n",
    "                        break\n",
    "                else:\n",
    "                    print(i)\n",
    "        \n",
    "p=PN(100)\n",
    "p.prime()"
   ]
  },
  {
   "cell_type": "markdown",
   "id": "f2484b48",
   "metadata": {},
   "source": [
    "# Task 3\n",
    "\n",
    "Load Iris dataset from https://archive.ics.uci.edu/ml/machine-learning-databases/iris/iris.data.\n"
   ]
  },
  {
   "cell_type": "code",
   "execution_count": 5,
   "id": "b83d7782",
   "metadata": {},
   "outputs": [
    {
     "data": {
      "text/html": [
       "<div>\n",
       "<style scoped>\n",
       "    .dataframe tbody tr th:only-of-type {\n",
       "        vertical-align: middle;\n",
       "    }\n",
       "\n",
       "    .dataframe tbody tr th {\n",
       "        vertical-align: top;\n",
       "    }\n",
       "\n",
       "    .dataframe thead th {\n",
       "        text-align: right;\n",
       "    }\n",
       "</style>\n",
       "<table border=\"1\" class=\"dataframe\">\n",
       "  <thead>\n",
       "    <tr style=\"text-align: right;\">\n",
       "      <th></th>\n",
       "      <th>0</th>\n",
       "      <th>1</th>\n",
       "      <th>2</th>\n",
       "      <th>3</th>\n",
       "      <th>4</th>\n",
       "    </tr>\n",
       "  </thead>\n",
       "  <tbody>\n",
       "    <tr>\n",
       "      <th>0</th>\n",
       "      <td>5.1</td>\n",
       "      <td>3.5</td>\n",
       "      <td>1.4</td>\n",
       "      <td>0.2</td>\n",
       "      <td>Iris-setosa</td>\n",
       "    </tr>\n",
       "    <tr>\n",
       "      <th>1</th>\n",
       "      <td>4.9</td>\n",
       "      <td>3.0</td>\n",
       "      <td>1.4</td>\n",
       "      <td>0.2</td>\n",
       "      <td>Iris-setosa</td>\n",
       "    </tr>\n",
       "    <tr>\n",
       "      <th>2</th>\n",
       "      <td>4.7</td>\n",
       "      <td>3.2</td>\n",
       "      <td>1.3</td>\n",
       "      <td>0.2</td>\n",
       "      <td>Iris-setosa</td>\n",
       "    </tr>\n",
       "    <tr>\n",
       "      <th>3</th>\n",
       "      <td>4.6</td>\n",
       "      <td>3.1</td>\n",
       "      <td>1.5</td>\n",
       "      <td>0.2</td>\n",
       "      <td>Iris-setosa</td>\n",
       "    </tr>\n",
       "    <tr>\n",
       "      <th>4</th>\n",
       "      <td>5.0</td>\n",
       "      <td>3.6</td>\n",
       "      <td>1.4</td>\n",
       "      <td>0.2</td>\n",
       "      <td>Iris-setosa</td>\n",
       "    </tr>\n",
       "    <tr>\n",
       "      <th>...</th>\n",
       "      <td>...</td>\n",
       "      <td>...</td>\n",
       "      <td>...</td>\n",
       "      <td>...</td>\n",
       "      <td>...</td>\n",
       "    </tr>\n",
       "    <tr>\n",
       "      <th>145</th>\n",
       "      <td>6.7</td>\n",
       "      <td>3.0</td>\n",
       "      <td>5.2</td>\n",
       "      <td>2.3</td>\n",
       "      <td>Iris-virginica</td>\n",
       "    </tr>\n",
       "    <tr>\n",
       "      <th>146</th>\n",
       "      <td>6.3</td>\n",
       "      <td>2.5</td>\n",
       "      <td>5.0</td>\n",
       "      <td>1.9</td>\n",
       "      <td>Iris-virginica</td>\n",
       "    </tr>\n",
       "    <tr>\n",
       "      <th>147</th>\n",
       "      <td>6.5</td>\n",
       "      <td>3.0</td>\n",
       "      <td>5.2</td>\n",
       "      <td>2.0</td>\n",
       "      <td>Iris-virginica</td>\n",
       "    </tr>\n",
       "    <tr>\n",
       "      <th>148</th>\n",
       "      <td>6.2</td>\n",
       "      <td>3.4</td>\n",
       "      <td>5.4</td>\n",
       "      <td>2.3</td>\n",
       "      <td>Iris-virginica</td>\n",
       "    </tr>\n",
       "    <tr>\n",
       "      <th>149</th>\n",
       "      <td>5.9</td>\n",
       "      <td>3.0</td>\n",
       "      <td>5.1</td>\n",
       "      <td>1.8</td>\n",
       "      <td>Iris-virginica</td>\n",
       "    </tr>\n",
       "  </tbody>\n",
       "</table>\n",
       "<p>150 rows × 5 columns</p>\n",
       "</div>"
      ],
      "text/plain": [
       "       0    1    2    3               4\n",
       "0    5.1  3.5  1.4  0.2     Iris-setosa\n",
       "1    4.9  3.0  1.4  0.2     Iris-setosa\n",
       "2    4.7  3.2  1.3  0.2     Iris-setosa\n",
       "3    4.6  3.1  1.5  0.2     Iris-setosa\n",
       "4    5.0  3.6  1.4  0.2     Iris-setosa\n",
       "..   ...  ...  ...  ...             ...\n",
       "145  6.7  3.0  5.2  2.3  Iris-virginica\n",
       "146  6.3  2.5  5.0  1.9  Iris-virginica\n",
       "147  6.5  3.0  5.2  2.0  Iris-virginica\n",
       "148  6.2  3.4  5.4  2.3  Iris-virginica\n",
       "149  5.9  3.0  5.1  1.8  Iris-virginica\n",
       "\n",
       "[150 rows x 5 columns]"
      ]
     },
     "execution_count": 5,
     "metadata": {},
     "output_type": "execute_result"
    }
   ],
   "source": [
    "#Write your code here\n",
    "import pandas as pd\n",
    "\n",
    "df=pd.read_csv('D:\\Downloads\\iris.data',header=None)\n",
    "df"
   ]
  },
  {
   "cell_type": "markdown",
   "id": "89961aeb",
   "metadata": {},
   "source": [
    "## Task 4\n",
    "\n",
    "Print the content of the **iris_dataset** variable."
   ]
  },
  {
   "cell_type": "code",
   "execution_count": 29,
   "id": "a0448f6b",
   "metadata": {},
   "outputs": [
    {
     "name": "stdout",
     "output_type": "stream",
     "text": [
      "5.1 3.5 1.4 0.2 Iris-setosa \n",
      "4.9 3.0 1.4 0.2 Iris-setosa \n",
      "4.7 3.2 1.3 0.2 Iris-setosa \n",
      "4.6 3.1 1.5 0.2 Iris-setosa \n",
      "5.0 3.6 1.4 0.2 Iris-setosa \n",
      "5.4 3.9 1.7 0.4 Iris-setosa \n",
      "4.6 3.4 1.4 0.3 Iris-setosa \n",
      "5.0 3.4 1.5 0.2 Iris-setosa \n",
      "4.4 2.9 1.4 0.2 Iris-setosa \n",
      "4.9 3.1 1.5 0.1 Iris-setosa \n",
      "5.4 3.7 1.5 0.2 Iris-setosa \n",
      "4.8 3.4 1.6 0.2 Iris-setosa \n",
      "4.8 3.0 1.4 0.1 Iris-setosa \n",
      "4.3 3.0 1.1 0.1 Iris-setosa \n",
      "5.8 4.0 1.2 0.2 Iris-setosa \n",
      "5.7 4.4 1.5 0.4 Iris-setosa \n",
      "5.4 3.9 1.3 0.4 Iris-setosa \n",
      "5.1 3.5 1.4 0.3 Iris-setosa \n",
      "5.7 3.8 1.7 0.3 Iris-setosa \n",
      "5.1 3.8 1.5 0.3 Iris-setosa \n",
      "5.4 3.4 1.7 0.2 Iris-setosa \n",
      "5.1 3.7 1.5 0.4 Iris-setosa \n",
      "4.6 3.6 1.0 0.2 Iris-setosa \n",
      "5.1 3.3 1.7 0.5 Iris-setosa \n",
      "4.8 3.4 1.9 0.2 Iris-setosa \n",
      "5.0 3.0 1.6 0.2 Iris-setosa \n",
      "5.0 3.4 1.6 0.4 Iris-setosa \n",
      "5.2 3.5 1.5 0.2 Iris-setosa \n",
      "5.2 3.4 1.4 0.2 Iris-setosa \n",
      "4.7 3.2 1.6 0.2 Iris-setosa \n",
      "4.8 3.1 1.6 0.2 Iris-setosa \n",
      "5.4 3.4 1.5 0.4 Iris-setosa \n",
      "5.2 4.1 1.5 0.1 Iris-setosa \n",
      "5.5 4.2 1.4 0.2 Iris-setosa \n",
      "4.9 3.1 1.5 0.1 Iris-setosa \n",
      "5.0 3.2 1.2 0.2 Iris-setosa \n",
      "5.5 3.5 1.3 0.2 Iris-setosa \n",
      "4.9 3.1 1.5 0.1 Iris-setosa \n",
      "4.4 3.0 1.3 0.2 Iris-setosa \n",
      "5.1 3.4 1.5 0.2 Iris-setosa \n",
      "5.0 3.5 1.3 0.3 Iris-setosa \n",
      "4.5 2.3 1.3 0.3 Iris-setosa \n",
      "4.4 3.2 1.3 0.2 Iris-setosa \n",
      "5.0 3.5 1.6 0.6 Iris-setosa \n",
      "5.1 3.8 1.9 0.4 Iris-setosa \n",
      "4.8 3.0 1.4 0.3 Iris-setosa \n",
      "5.1 3.8 1.6 0.2 Iris-setosa \n",
      "4.6 3.2 1.4 0.2 Iris-setosa \n",
      "5.3 3.7 1.5 0.2 Iris-setosa \n",
      "5.0 3.3 1.4 0.2 Iris-setosa \n",
      "7.0 3.2 4.7 1.4 Iris-versicolor \n",
      "6.4 3.2 4.5 1.5 Iris-versicolor \n",
      "6.9 3.1 4.9 1.5 Iris-versicolor \n",
      "5.5 2.3 4.0 1.3 Iris-versicolor \n",
      "6.5 2.8 4.6 1.5 Iris-versicolor \n",
      "5.7 2.8 4.5 1.3 Iris-versicolor \n",
      "6.3 3.3 4.7 1.6 Iris-versicolor \n",
      "4.9 2.4 3.3 1.0 Iris-versicolor \n",
      "6.6 2.9 4.6 1.3 Iris-versicolor \n",
      "5.2 2.7 3.9 1.4 Iris-versicolor \n",
      "5.0 2.0 3.5 1.0 Iris-versicolor \n",
      "5.9 3.0 4.2 1.5 Iris-versicolor \n",
      "6.0 2.2 4.0 1.0 Iris-versicolor \n",
      "6.1 2.9 4.7 1.4 Iris-versicolor \n",
      "5.6 2.9 3.6 1.3 Iris-versicolor \n",
      "6.7 3.1 4.4 1.4 Iris-versicolor \n",
      "5.6 3.0 4.5 1.5 Iris-versicolor \n",
      "5.8 2.7 4.1 1.0 Iris-versicolor \n",
      "6.2 2.2 4.5 1.5 Iris-versicolor \n",
      "5.6 2.5 3.9 1.1 Iris-versicolor \n",
      "5.9 3.2 4.8 1.8 Iris-versicolor \n",
      "6.1 2.8 4.0 1.3 Iris-versicolor \n",
      "6.3 2.5 4.9 1.5 Iris-versicolor \n",
      "6.1 2.8 4.7 1.2 Iris-versicolor \n",
      "6.4 2.9 4.3 1.3 Iris-versicolor \n",
      "6.6 3.0 4.4 1.4 Iris-versicolor \n",
      "6.8 2.8 4.8 1.4 Iris-versicolor \n",
      "6.7 3.0 5.0 1.7 Iris-versicolor \n",
      "6.0 2.9 4.5 1.5 Iris-versicolor \n",
      "5.7 2.6 3.5 1.0 Iris-versicolor \n",
      "5.5 2.4 3.8 1.1 Iris-versicolor \n",
      "5.5 2.4 3.7 1.0 Iris-versicolor \n",
      "5.8 2.7 3.9 1.2 Iris-versicolor \n",
      "6.0 2.7 5.1 1.6 Iris-versicolor \n",
      "5.4 3.0 4.5 1.5 Iris-versicolor \n",
      "6.0 3.4 4.5 1.6 Iris-versicolor \n",
      "6.7 3.1 4.7 1.5 Iris-versicolor \n",
      "6.3 2.3 4.4 1.3 Iris-versicolor \n",
      "5.6 3.0 4.1 1.3 Iris-versicolor \n",
      "5.5 2.5 4.0 1.3 Iris-versicolor \n",
      "5.5 2.6 4.4 1.2 Iris-versicolor \n",
      "6.1 3.0 4.6 1.4 Iris-versicolor \n",
      "5.8 2.6 4.0 1.2 Iris-versicolor \n",
      "5.0 2.3 3.3 1.0 Iris-versicolor \n",
      "5.6 2.7 4.2 1.3 Iris-versicolor \n",
      "5.7 3.0 4.2 1.2 Iris-versicolor \n",
      "5.7 2.9 4.2 1.3 Iris-versicolor \n",
      "6.2 2.9 4.3 1.3 Iris-versicolor \n",
      "5.1 2.5 3.0 1.1 Iris-versicolor \n",
      "5.7 2.8 4.1 1.3 Iris-versicolor \n",
      "6.3 3.3 6.0 2.5 Iris-virginica \n",
      "5.8 2.7 5.1 1.9 Iris-virginica \n",
      "7.1 3.0 5.9 2.1 Iris-virginica \n",
      "6.3 2.9 5.6 1.8 Iris-virginica \n",
      "6.5 3.0 5.8 2.2 Iris-virginica \n",
      "7.6 3.0 6.6 2.1 Iris-virginica \n",
      "4.9 2.5 4.5 1.7 Iris-virginica \n",
      "7.3 2.9 6.3 1.8 Iris-virginica \n",
      "6.7 2.5 5.8 1.8 Iris-virginica \n",
      "7.2 3.6 6.1 2.5 Iris-virginica \n",
      "6.5 3.2 5.1 2.0 Iris-virginica \n",
      "6.4 2.7 5.3 1.9 Iris-virginica \n",
      "6.8 3.0 5.5 2.1 Iris-virginica \n",
      "5.7 2.5 5.0 2.0 Iris-virginica \n",
      "5.8 2.8 5.1 2.4 Iris-virginica \n",
      "6.4 3.2 5.3 2.3 Iris-virginica \n",
      "6.5 3.0 5.5 1.8 Iris-virginica \n",
      "7.7 3.8 6.7 2.2 Iris-virginica \n",
      "7.7 2.6 6.9 2.3 Iris-virginica \n",
      "6.0 2.2 5.0 1.5 Iris-virginica \n",
      "6.9 3.2 5.7 2.3 Iris-virginica \n",
      "5.6 2.8 4.9 2.0 Iris-virginica \n",
      "7.7 2.8 6.7 2.0 Iris-virginica \n",
      "6.3 2.7 4.9 1.8 Iris-virginica \n",
      "6.7 3.3 5.7 2.1 Iris-virginica \n",
      "7.2 3.2 6.0 1.8 Iris-virginica \n",
      "6.2 2.8 4.8 1.8 Iris-virginica \n",
      "6.1 3.0 4.9 1.8 Iris-virginica \n",
      "6.4 2.8 5.6 2.1 Iris-virginica \n",
      "7.2 3.0 5.8 1.6 Iris-virginica \n",
      "7.4 2.8 6.1 1.9 Iris-virginica \n",
      "7.9 3.8 6.4 2.0 Iris-virginica \n",
      "6.4 2.8 5.6 2.2 Iris-virginica \n",
      "6.3 2.8 5.1 1.5 Iris-virginica \n",
      "6.1 2.6 5.6 1.4 Iris-virginica \n",
      "7.7 3.0 6.1 2.3 Iris-virginica \n",
      "6.3 3.4 5.6 2.4 Iris-virginica \n",
      "6.4 3.1 5.5 1.8 Iris-virginica \n",
      "6.0 3.0 4.8 1.8 Iris-virginica \n",
      "6.9 3.1 5.4 2.1 Iris-virginica \n",
      "6.7 3.1 5.6 2.4 Iris-virginica \n",
      "6.9 3.1 5.1 2.3 Iris-virginica \n",
      "5.8 2.7 5.1 1.9 Iris-virginica \n",
      "6.8 3.2 5.9 2.3 Iris-virginica \n",
      "6.7 3.3 5.7 2.5 Iris-virginica \n",
      "6.7 3.0 5.2 2.3 Iris-virginica \n",
      "6.3 2.5 5.0 1.9 Iris-virginica \n",
      "6.5 3.0 5.2 2.0 Iris-virginica \n",
      "6.2 3.4 5.4 2.3 Iris-virginica \n",
      "5.9 3.0 5.1 1.8 Iris-virginica \n"
     ]
    }
   ],
   "source": [
    "Write your code here"
   ]
  },
  {
   "cell_type": "code",
   "execution_count": 6,
   "id": "e0e5136b",
   "metadata": {},
   "outputs": [
    {
     "name": "stdout",
     "output_type": "stream",
     "text": [
      "       0    1    2    3               4\n",
      "0    5.1  3.5  1.4  0.2     Iris-setosa\n",
      "1    4.9  3.0  1.4  0.2     Iris-setosa\n",
      "2    4.7  3.2  1.3  0.2     Iris-setosa\n",
      "3    4.6  3.1  1.5  0.2     Iris-setosa\n",
      "4    5.0  3.6  1.4  0.2     Iris-setosa\n",
      "..   ...  ...  ...  ...             ...\n",
      "145  6.7  3.0  5.2  2.3  Iris-virginica\n",
      "146  6.3  2.5  5.0  1.9  Iris-virginica\n",
      "147  6.5  3.0  5.2  2.0  Iris-virginica\n",
      "148  6.2  3.4  5.4  2.3  Iris-virginica\n",
      "149  5.9  3.0  5.1  1.8  Iris-virginica\n",
      "\n",
      "[150 rows x 5 columns]\n"
     ]
    }
   ],
   "source": [
    "print(df)"
   ]
  },
  {
   "cell_type": "markdown",
   "id": "0699024f",
   "metadata": {},
   "source": [
    "## Task 5\n",
    "\n",
    "Rencode labels to three numerical colums according to the table:\n",
    "\n",
    "Label | Output[0] | Output[1] | Output[2]\n",
    ":--- | :---: | :---: | :---: |\n",
    "Iris-versicolor | 1 | 0 | 0 \n",
    "Iris-virginica  | 0 | 1 | 0\n",
    "Iris-setosa     | 0 | 0 | 1\n",
    "\n",
    "so that the first row of the Iris dataset will look like ``5.1 3.5 1.4 0.2 0 0 1``  \n",
    "\n"
   ]
  },
  {
   "cell_type": "code",
   "execution_count": 30,
   "id": "fd441750",
   "metadata": {},
   "outputs": [
    {
     "name": "stdout",
     "output_type": "stream",
     "text": [
      "[[5.1 3.5 1.4 ... 0.  0.  1. ]\n",
      " [4.9 3.  1.4 ... 0.  0.  1. ]\n",
      " [4.7 3.2 1.3 ... 0.  0.  1. ]\n",
      " ...\n",
      " [6.5 3.  5.2 ... 0.  1.  0. ]\n",
      " [6.2 3.4 5.4 ... 0.  1.  0. ]\n",
      " [5.9 3.  5.1 ... 0.  1.  0. ]]\n"
     ]
    }
   ],
   "source": [
    "Write your code here"
   ]
  },
  {
   "cell_type": "code",
   "execution_count": 7,
   "id": "af68ff17",
   "metadata": {},
   "outputs": [
    {
     "data": {
      "text/html": [
       "<div>\n",
       "<style scoped>\n",
       "    .dataframe tbody tr th:only-of-type {\n",
       "        vertical-align: middle;\n",
       "    }\n",
       "\n",
       "    .dataframe tbody tr th {\n",
       "        vertical-align: top;\n",
       "    }\n",
       "\n",
       "    .dataframe thead th {\n",
       "        text-align: right;\n",
       "    }\n",
       "</style>\n",
       "<table border=\"1\" class=\"dataframe\">\n",
       "  <thead>\n",
       "    <tr style=\"text-align: right;\">\n",
       "      <th></th>\n",
       "      <th>Iris-virginica</th>\n",
       "      <th>Iris-versicolor</th>\n",
       "      <th>Iris-setosa</th>\n",
       "    </tr>\n",
       "  </thead>\n",
       "  <tbody>\n",
       "    <tr>\n",
       "      <th>0</th>\n",
       "      <td>0</td>\n",
       "      <td>1</td>\n",
       "      <td>0</td>\n",
       "    </tr>\n",
       "    <tr>\n",
       "      <th>1</th>\n",
       "      <td>1</td>\n",
       "      <td>0</td>\n",
       "      <td>0</td>\n",
       "    </tr>\n",
       "    <tr>\n",
       "      <th>2</th>\n",
       "      <td>0</td>\n",
       "      <td>0</td>\n",
       "      <td>1</td>\n",
       "    </tr>\n",
       "  </tbody>\n",
       "</table>\n",
       "</div>"
      ],
      "text/plain": [
       "  Iris-virginica Iris-versicolor Iris-setosa\n",
       "0              0               1           0\n",
       "1              1               0           0\n",
       "2              0               0           1"
      ]
     },
     "execution_count": 7,
     "metadata": {},
     "output_type": "execute_result"
    }
   ],
   "source": [
    "df1=pd.DataFrame({'Iris-virginica':['0','1','0'],'Iris-versicolor':['1','0','0'],'Iris-setosa':['0','0','1']},)\n",
    "df1"
   ]
  },
  {
   "cell_type": "code",
   "execution_count": 14,
   "id": "ff4c733b",
   "metadata": {},
   "outputs": [],
   "source": [
    "import numpy as np"
   ]
  },
  {
   "cell_type": "code",
   "execution_count": 17,
   "id": "2ce1689d",
   "metadata": {},
   "outputs": [],
   "source": [
    "df_copy=df.copy()\n",
    "df_copy[4].replace({'Iris-setosa':2,'Iris-versicolor':1,'Iris-virginica':0},inplace=True)"
   ]
  },
  {
   "cell_type": "code",
   "execution_count": 18,
   "id": "ee816186",
   "metadata": {},
   "outputs": [],
   "source": [
    "conditions=[(df_copy[4]==2),(df_copy[4]==1),(df_copy[4]==0)]\n",
    "values=['0,0,1','1,0,0','0,1,0']\n",
    "df_copy['code'] = np.select(conditions,values)\n",
    "df_copy[['Output[0]','Output[1]','Output[2]']]=df_copy['code'].str.split(',', expand=True)\n",
    "df3=df_copy.copy()\n",
    "df_copy.drop(['code',4],axis='columns',inplace=True)\n"
   ]
  },
  {
   "cell_type": "code",
   "execution_count": 21,
   "id": "7fc74920",
   "metadata": {},
   "outputs": [],
   "source": [
    "df_copy['Output[0]'] = df_copy['Output[0]'].astype(int)\n",
    "df_copy['Output[1]'] = df_copy['Output[1]'].astype(int)\n",
    "df_copy['Output[2]'] = df_copy['Output[2]'].astype(int)\n"
   ]
  },
  {
   "cell_type": "code",
   "execution_count": 22,
   "id": "d6def6ef",
   "metadata": {},
   "outputs": [
    {
     "data": {
      "text/html": [
       "<div>\n",
       "<style scoped>\n",
       "    .dataframe tbody tr th:only-of-type {\n",
       "        vertical-align: middle;\n",
       "    }\n",
       "\n",
       "    .dataframe tbody tr th {\n",
       "        vertical-align: top;\n",
       "    }\n",
       "\n",
       "    .dataframe thead th {\n",
       "        text-align: right;\n",
       "    }\n",
       "</style>\n",
       "<table border=\"1\" class=\"dataframe\">\n",
       "  <thead>\n",
       "    <tr style=\"text-align: right;\">\n",
       "      <th></th>\n",
       "      <th>0</th>\n",
       "      <th>1</th>\n",
       "      <th>2</th>\n",
       "      <th>3</th>\n",
       "      <th>Output[0]</th>\n",
       "      <th>Output[1]</th>\n",
       "      <th>Output[2]</th>\n",
       "    </tr>\n",
       "  </thead>\n",
       "  <tbody>\n",
       "    <tr>\n",
       "      <th>0</th>\n",
       "      <td>5.1</td>\n",
       "      <td>3.5</td>\n",
       "      <td>1.4</td>\n",
       "      <td>0.2</td>\n",
       "      <td>0</td>\n",
       "      <td>0</td>\n",
       "      <td>1</td>\n",
       "    </tr>\n",
       "    <tr>\n",
       "      <th>1</th>\n",
       "      <td>4.9</td>\n",
       "      <td>3.0</td>\n",
       "      <td>1.4</td>\n",
       "      <td>0.2</td>\n",
       "      <td>0</td>\n",
       "      <td>0</td>\n",
       "      <td>1</td>\n",
       "    </tr>\n",
       "    <tr>\n",
       "      <th>2</th>\n",
       "      <td>4.7</td>\n",
       "      <td>3.2</td>\n",
       "      <td>1.3</td>\n",
       "      <td>0.2</td>\n",
       "      <td>0</td>\n",
       "      <td>0</td>\n",
       "      <td>1</td>\n",
       "    </tr>\n",
       "    <tr>\n",
       "      <th>3</th>\n",
       "      <td>4.6</td>\n",
       "      <td>3.1</td>\n",
       "      <td>1.5</td>\n",
       "      <td>0.2</td>\n",
       "      <td>0</td>\n",
       "      <td>0</td>\n",
       "      <td>1</td>\n",
       "    </tr>\n",
       "    <tr>\n",
       "      <th>4</th>\n",
       "      <td>5.0</td>\n",
       "      <td>3.6</td>\n",
       "      <td>1.4</td>\n",
       "      <td>0.2</td>\n",
       "      <td>0</td>\n",
       "      <td>0</td>\n",
       "      <td>1</td>\n",
       "    </tr>\n",
       "    <tr>\n",
       "      <th>...</th>\n",
       "      <td>...</td>\n",
       "      <td>...</td>\n",
       "      <td>...</td>\n",
       "      <td>...</td>\n",
       "      <td>...</td>\n",
       "      <td>...</td>\n",
       "      <td>...</td>\n",
       "    </tr>\n",
       "    <tr>\n",
       "      <th>145</th>\n",
       "      <td>6.7</td>\n",
       "      <td>3.0</td>\n",
       "      <td>5.2</td>\n",
       "      <td>2.3</td>\n",
       "      <td>0</td>\n",
       "      <td>1</td>\n",
       "      <td>0</td>\n",
       "    </tr>\n",
       "    <tr>\n",
       "      <th>146</th>\n",
       "      <td>6.3</td>\n",
       "      <td>2.5</td>\n",
       "      <td>5.0</td>\n",
       "      <td>1.9</td>\n",
       "      <td>0</td>\n",
       "      <td>1</td>\n",
       "      <td>0</td>\n",
       "    </tr>\n",
       "    <tr>\n",
       "      <th>147</th>\n",
       "      <td>6.5</td>\n",
       "      <td>3.0</td>\n",
       "      <td>5.2</td>\n",
       "      <td>2.0</td>\n",
       "      <td>0</td>\n",
       "      <td>1</td>\n",
       "      <td>0</td>\n",
       "    </tr>\n",
       "    <tr>\n",
       "      <th>148</th>\n",
       "      <td>6.2</td>\n",
       "      <td>3.4</td>\n",
       "      <td>5.4</td>\n",
       "      <td>2.3</td>\n",
       "      <td>0</td>\n",
       "      <td>1</td>\n",
       "      <td>0</td>\n",
       "    </tr>\n",
       "    <tr>\n",
       "      <th>149</th>\n",
       "      <td>5.9</td>\n",
       "      <td>3.0</td>\n",
       "      <td>5.1</td>\n",
       "      <td>1.8</td>\n",
       "      <td>0</td>\n",
       "      <td>1</td>\n",
       "      <td>0</td>\n",
       "    </tr>\n",
       "  </tbody>\n",
       "</table>\n",
       "<p>150 rows × 7 columns</p>\n",
       "</div>"
      ],
      "text/plain": [
       "       0    1    2    3  Output[0]  Output[1]  Output[2]\n",
       "0    5.1  3.5  1.4  0.2          0          0          1\n",
       "1    4.9  3.0  1.4  0.2          0          0          1\n",
       "2    4.7  3.2  1.3  0.2          0          0          1\n",
       "3    4.6  3.1  1.5  0.2          0          0          1\n",
       "4    5.0  3.6  1.4  0.2          0          0          1\n",
       "..   ...  ...  ...  ...        ...        ...        ...\n",
       "145  6.7  3.0  5.2  2.3          0          1          0\n",
       "146  6.3  2.5  5.0  1.9          0          1          0\n",
       "147  6.5  3.0  5.2  2.0          0          1          0\n",
       "148  6.2  3.4  5.4  2.3          0          1          0\n",
       "149  5.9  3.0  5.1  1.8          0          1          0\n",
       "\n",
       "[150 rows x 7 columns]"
      ]
     },
     "execution_count": 22,
     "metadata": {},
     "output_type": "execute_result"
    }
   ],
   "source": [
    "df_copy"
   ]
  },
  {
   "cell_type": "markdown",
   "id": "c2069e95",
   "metadata": {},
   "source": [
    "## Task 6\n",
    "\n",
    "Split the ``iris_dataset_enc`` into two numpy arrays. The ``iris_features`` will contain four numerical columns containing features and the ``iris_desired`` will contain three numerical outputs containing desired outputs."
   ]
  },
  {
   "cell_type": "code",
   "execution_count": 31,
   "id": "0ebbf632",
   "metadata": {},
   "outputs": [
    {
     "name": "stdout",
     "output_type": "stream",
     "text": [
      "[[5.1 3.5 1.4 0.2]\n",
      " [4.9 3.  1.4 0.2]\n",
      " [4.7 3.2 1.3 0.2]\n",
      " [4.6 3.1 1.5 0.2]\n",
      " [5.  3.6 1.4 0.2]\n",
      " [5.4 3.9 1.7 0.4]\n",
      " [4.6 3.4 1.4 0.3]\n",
      " [5.  3.4 1.5 0.2]\n",
      " [4.4 2.9 1.4 0.2]\n",
      " [4.9 3.1 1.5 0.1]\n",
      " [5.4 3.7 1.5 0.2]\n",
      " [4.8 3.4 1.6 0.2]\n",
      " [4.8 3.  1.4 0.1]\n",
      " [4.3 3.  1.1 0.1]\n",
      " [5.8 4.  1.2 0.2]\n",
      " [5.7 4.4 1.5 0.4]\n",
      " [5.4 3.9 1.3 0.4]\n",
      " [5.1 3.5 1.4 0.3]\n",
      " [5.7 3.8 1.7 0.3]\n",
      " [5.1 3.8 1.5 0.3]\n",
      " [5.4 3.4 1.7 0.2]\n",
      " [5.1 3.7 1.5 0.4]\n",
      " [4.6 3.6 1.  0.2]\n",
      " [5.1 3.3 1.7 0.5]\n",
      " [4.8 3.4 1.9 0.2]\n",
      " [5.  3.  1.6 0.2]\n",
      " [5.  3.4 1.6 0.4]\n",
      " [5.2 3.5 1.5 0.2]\n",
      " [5.2 3.4 1.4 0.2]\n",
      " [4.7 3.2 1.6 0.2]\n",
      " [4.8 3.1 1.6 0.2]\n",
      " [5.4 3.4 1.5 0.4]\n",
      " [5.2 4.1 1.5 0.1]\n",
      " [5.5 4.2 1.4 0.2]\n",
      " [4.9 3.1 1.5 0.1]\n",
      " [5.  3.2 1.2 0.2]\n",
      " [5.5 3.5 1.3 0.2]\n",
      " [4.9 3.1 1.5 0.1]\n",
      " [4.4 3.  1.3 0.2]\n",
      " [5.1 3.4 1.5 0.2]\n",
      " [5.  3.5 1.3 0.3]\n",
      " [4.5 2.3 1.3 0.3]\n",
      " [4.4 3.2 1.3 0.2]\n",
      " [5.  3.5 1.6 0.6]\n",
      " [5.1 3.8 1.9 0.4]\n",
      " [4.8 3.  1.4 0.3]\n",
      " [5.1 3.8 1.6 0.2]\n",
      " [4.6 3.2 1.4 0.2]\n",
      " [5.3 3.7 1.5 0.2]\n",
      " [5.  3.3 1.4 0.2]\n",
      " [7.  3.2 4.7 1.4]\n",
      " [6.4 3.2 4.5 1.5]\n",
      " [6.9 3.1 4.9 1.5]\n",
      " [5.5 2.3 4.  1.3]\n",
      " [6.5 2.8 4.6 1.5]\n",
      " [5.7 2.8 4.5 1.3]\n",
      " [6.3 3.3 4.7 1.6]\n",
      " [4.9 2.4 3.3 1. ]\n",
      " [6.6 2.9 4.6 1.3]\n",
      " [5.2 2.7 3.9 1.4]\n",
      " [5.  2.  3.5 1. ]\n",
      " [5.9 3.  4.2 1.5]\n",
      " [6.  2.2 4.  1. ]\n",
      " [6.1 2.9 4.7 1.4]\n",
      " [5.6 2.9 3.6 1.3]\n",
      " [6.7 3.1 4.4 1.4]\n",
      " [5.6 3.  4.5 1.5]\n",
      " [5.8 2.7 4.1 1. ]\n",
      " [6.2 2.2 4.5 1.5]\n",
      " [5.6 2.5 3.9 1.1]\n",
      " [5.9 3.2 4.8 1.8]\n",
      " [6.1 2.8 4.  1.3]\n",
      " [6.3 2.5 4.9 1.5]\n",
      " [6.1 2.8 4.7 1.2]\n",
      " [6.4 2.9 4.3 1.3]\n",
      " [6.6 3.  4.4 1.4]\n",
      " [6.8 2.8 4.8 1.4]\n",
      " [6.7 3.  5.  1.7]\n",
      " [6.  2.9 4.5 1.5]\n",
      " [5.7 2.6 3.5 1. ]\n",
      " [5.5 2.4 3.8 1.1]\n",
      " [5.5 2.4 3.7 1. ]\n",
      " [5.8 2.7 3.9 1.2]\n",
      " [6.  2.7 5.1 1.6]\n",
      " [5.4 3.  4.5 1.5]\n",
      " [6.  3.4 4.5 1.6]\n",
      " [6.7 3.1 4.7 1.5]\n",
      " [6.3 2.3 4.4 1.3]\n",
      " [5.6 3.  4.1 1.3]\n",
      " [5.5 2.5 4.  1.3]\n",
      " [5.5 2.6 4.4 1.2]\n",
      " [6.1 3.  4.6 1.4]\n",
      " [5.8 2.6 4.  1.2]\n",
      " [5.  2.3 3.3 1. ]\n",
      " [5.6 2.7 4.2 1.3]\n",
      " [5.7 3.  4.2 1.2]\n",
      " [5.7 2.9 4.2 1.3]\n",
      " [6.2 2.9 4.3 1.3]\n",
      " [5.1 2.5 3.  1.1]\n",
      " [5.7 2.8 4.1 1.3]\n",
      " [6.3 3.3 6.  2.5]\n",
      " [5.8 2.7 5.1 1.9]\n",
      " [7.1 3.  5.9 2.1]\n",
      " [6.3 2.9 5.6 1.8]\n",
      " [6.5 3.  5.8 2.2]\n",
      " [7.6 3.  6.6 2.1]\n",
      " [4.9 2.5 4.5 1.7]\n",
      " [7.3 2.9 6.3 1.8]\n",
      " [6.7 2.5 5.8 1.8]\n",
      " [7.2 3.6 6.1 2.5]\n",
      " [6.5 3.2 5.1 2. ]\n",
      " [6.4 2.7 5.3 1.9]\n",
      " [6.8 3.  5.5 2.1]\n",
      " [5.7 2.5 5.  2. ]\n",
      " [5.8 2.8 5.1 2.4]\n",
      " [6.4 3.2 5.3 2.3]\n",
      " [6.5 3.  5.5 1.8]\n",
      " [7.7 3.8 6.7 2.2]\n",
      " [7.7 2.6 6.9 2.3]\n",
      " [6.  2.2 5.  1.5]\n",
      " [6.9 3.2 5.7 2.3]\n",
      " [5.6 2.8 4.9 2. ]\n",
      " [7.7 2.8 6.7 2. ]\n",
      " [6.3 2.7 4.9 1.8]\n",
      " [6.7 3.3 5.7 2.1]\n",
      " [7.2 3.2 6.  1.8]\n",
      " [6.2 2.8 4.8 1.8]\n",
      " [6.1 3.  4.9 1.8]\n",
      " [6.4 2.8 5.6 2.1]\n",
      " [7.2 3.  5.8 1.6]\n",
      " [7.4 2.8 6.1 1.9]\n",
      " [7.9 3.8 6.4 2. ]\n",
      " [6.4 2.8 5.6 2.2]\n",
      " [6.3 2.8 5.1 1.5]\n",
      " [6.1 2.6 5.6 1.4]\n",
      " [7.7 3.  6.1 2.3]\n",
      " [6.3 3.4 5.6 2.4]\n",
      " [6.4 3.1 5.5 1.8]\n",
      " [6.  3.  4.8 1.8]\n",
      " [6.9 3.1 5.4 2.1]\n",
      " [6.7 3.1 5.6 2.4]\n",
      " [6.9 3.1 5.1 2.3]\n",
      " [5.8 2.7 5.1 1.9]\n",
      " [6.8 3.2 5.9 2.3]\n",
      " [6.7 3.3 5.7 2.5]\n",
      " [6.7 3.  5.2 2.3]\n",
      " [6.3 2.5 5.  1.9]\n",
      " [6.5 3.  5.2 2. ]\n",
      " [6.2 3.4 5.4 2.3]\n",
      " [5.9 3.  5.1 1.8]]\n"
     ]
    }
   ],
   "source": [
    "Write your code here"
   ]
  },
  {
   "cell_type": "code",
   "execution_count": 23,
   "id": "ba3ece85",
   "metadata": {},
   "outputs": [
    {
     "data": {
      "text/plain": [
       "array([[5.1, 3.5, 1.4, 0.2],\n",
       "       [4.9, 3. , 1.4, 0.2],\n",
       "       [4.7, 3.2, 1.3, 0.2],\n",
       "       [4.6, 3.1, 1.5, 0.2],\n",
       "       [5. , 3.6, 1.4, 0.2],\n",
       "       [5.4, 3.9, 1.7, 0.4],\n",
       "       [4.6, 3.4, 1.4, 0.3],\n",
       "       [5. , 3.4, 1.5, 0.2],\n",
       "       [4.4, 2.9, 1.4, 0.2],\n",
       "       [4.9, 3.1, 1.5, 0.1],\n",
       "       [5.4, 3.7, 1.5, 0.2],\n",
       "       [4.8, 3.4, 1.6, 0.2],\n",
       "       [4.8, 3. , 1.4, 0.1],\n",
       "       [4.3, 3. , 1.1, 0.1],\n",
       "       [5.8, 4. , 1.2, 0.2],\n",
       "       [5.7, 4.4, 1.5, 0.4],\n",
       "       [5.4, 3.9, 1.3, 0.4],\n",
       "       [5.1, 3.5, 1.4, 0.3],\n",
       "       [5.7, 3.8, 1.7, 0.3],\n",
       "       [5.1, 3.8, 1.5, 0.3],\n",
       "       [5.4, 3.4, 1.7, 0.2],\n",
       "       [5.1, 3.7, 1.5, 0.4],\n",
       "       [4.6, 3.6, 1. , 0.2],\n",
       "       [5.1, 3.3, 1.7, 0.5],\n",
       "       [4.8, 3.4, 1.9, 0.2],\n",
       "       [5. , 3. , 1.6, 0.2],\n",
       "       [5. , 3.4, 1.6, 0.4],\n",
       "       [5.2, 3.5, 1.5, 0.2],\n",
       "       [5.2, 3.4, 1.4, 0.2],\n",
       "       [4.7, 3.2, 1.6, 0.2],\n",
       "       [4.8, 3.1, 1.6, 0.2],\n",
       "       [5.4, 3.4, 1.5, 0.4],\n",
       "       [5.2, 4.1, 1.5, 0.1],\n",
       "       [5.5, 4.2, 1.4, 0.2],\n",
       "       [4.9, 3.1, 1.5, 0.1],\n",
       "       [5. , 3.2, 1.2, 0.2],\n",
       "       [5.5, 3.5, 1.3, 0.2],\n",
       "       [4.9, 3.1, 1.5, 0.1],\n",
       "       [4.4, 3. , 1.3, 0.2],\n",
       "       [5.1, 3.4, 1.5, 0.2],\n",
       "       [5. , 3.5, 1.3, 0.3],\n",
       "       [4.5, 2.3, 1.3, 0.3],\n",
       "       [4.4, 3.2, 1.3, 0.2],\n",
       "       [5. , 3.5, 1.6, 0.6],\n",
       "       [5.1, 3.8, 1.9, 0.4],\n",
       "       [4.8, 3. , 1.4, 0.3],\n",
       "       [5.1, 3.8, 1.6, 0.2],\n",
       "       [4.6, 3.2, 1.4, 0.2],\n",
       "       [5.3, 3.7, 1.5, 0.2],\n",
       "       [5. , 3.3, 1.4, 0.2],\n",
       "       [7. , 3.2, 4.7, 1.4],\n",
       "       [6.4, 3.2, 4.5, 1.5],\n",
       "       [6.9, 3.1, 4.9, 1.5],\n",
       "       [5.5, 2.3, 4. , 1.3],\n",
       "       [6.5, 2.8, 4.6, 1.5],\n",
       "       [5.7, 2.8, 4.5, 1.3],\n",
       "       [6.3, 3.3, 4.7, 1.6],\n",
       "       [4.9, 2.4, 3.3, 1. ],\n",
       "       [6.6, 2.9, 4.6, 1.3],\n",
       "       [5.2, 2.7, 3.9, 1.4],\n",
       "       [5. , 2. , 3.5, 1. ],\n",
       "       [5.9, 3. , 4.2, 1.5],\n",
       "       [6. , 2.2, 4. , 1. ],\n",
       "       [6.1, 2.9, 4.7, 1.4],\n",
       "       [5.6, 2.9, 3.6, 1.3],\n",
       "       [6.7, 3.1, 4.4, 1.4],\n",
       "       [5.6, 3. , 4.5, 1.5],\n",
       "       [5.8, 2.7, 4.1, 1. ],\n",
       "       [6.2, 2.2, 4.5, 1.5],\n",
       "       [5.6, 2.5, 3.9, 1.1],\n",
       "       [5.9, 3.2, 4.8, 1.8],\n",
       "       [6.1, 2.8, 4. , 1.3],\n",
       "       [6.3, 2.5, 4.9, 1.5],\n",
       "       [6.1, 2.8, 4.7, 1.2],\n",
       "       [6.4, 2.9, 4.3, 1.3],\n",
       "       [6.6, 3. , 4.4, 1.4],\n",
       "       [6.8, 2.8, 4.8, 1.4],\n",
       "       [6.7, 3. , 5. , 1.7],\n",
       "       [6. , 2.9, 4.5, 1.5],\n",
       "       [5.7, 2.6, 3.5, 1. ],\n",
       "       [5.5, 2.4, 3.8, 1.1],\n",
       "       [5.5, 2.4, 3.7, 1. ],\n",
       "       [5.8, 2.7, 3.9, 1.2],\n",
       "       [6. , 2.7, 5.1, 1.6],\n",
       "       [5.4, 3. , 4.5, 1.5],\n",
       "       [6. , 3.4, 4.5, 1.6],\n",
       "       [6.7, 3.1, 4.7, 1.5],\n",
       "       [6.3, 2.3, 4.4, 1.3],\n",
       "       [5.6, 3. , 4.1, 1.3],\n",
       "       [5.5, 2.5, 4. , 1.3],\n",
       "       [5.5, 2.6, 4.4, 1.2],\n",
       "       [6.1, 3. , 4.6, 1.4],\n",
       "       [5.8, 2.6, 4. , 1.2],\n",
       "       [5. , 2.3, 3.3, 1. ],\n",
       "       [5.6, 2.7, 4.2, 1.3],\n",
       "       [5.7, 3. , 4.2, 1.2],\n",
       "       [5.7, 2.9, 4.2, 1.3],\n",
       "       [6.2, 2.9, 4.3, 1.3],\n",
       "       [5.1, 2.5, 3. , 1.1],\n",
       "       [5.7, 2.8, 4.1, 1.3],\n",
       "       [6.3, 3.3, 6. , 2.5],\n",
       "       [5.8, 2.7, 5.1, 1.9],\n",
       "       [7.1, 3. , 5.9, 2.1],\n",
       "       [6.3, 2.9, 5.6, 1.8],\n",
       "       [6.5, 3. , 5.8, 2.2],\n",
       "       [7.6, 3. , 6.6, 2.1],\n",
       "       [4.9, 2.5, 4.5, 1.7],\n",
       "       [7.3, 2.9, 6.3, 1.8],\n",
       "       [6.7, 2.5, 5.8, 1.8],\n",
       "       [7.2, 3.6, 6.1, 2.5],\n",
       "       [6.5, 3.2, 5.1, 2. ],\n",
       "       [6.4, 2.7, 5.3, 1.9],\n",
       "       [6.8, 3. , 5.5, 2.1],\n",
       "       [5.7, 2.5, 5. , 2. ],\n",
       "       [5.8, 2.8, 5.1, 2.4],\n",
       "       [6.4, 3.2, 5.3, 2.3],\n",
       "       [6.5, 3. , 5.5, 1.8],\n",
       "       [7.7, 3.8, 6.7, 2.2],\n",
       "       [7.7, 2.6, 6.9, 2.3],\n",
       "       [6. , 2.2, 5. , 1.5],\n",
       "       [6.9, 3.2, 5.7, 2.3],\n",
       "       [5.6, 2.8, 4.9, 2. ],\n",
       "       [7.7, 2.8, 6.7, 2. ],\n",
       "       [6.3, 2.7, 4.9, 1.8],\n",
       "       [6.7, 3.3, 5.7, 2.1],\n",
       "       [7.2, 3.2, 6. , 1.8],\n",
       "       [6.2, 2.8, 4.8, 1.8],\n",
       "       [6.1, 3. , 4.9, 1.8],\n",
       "       [6.4, 2.8, 5.6, 2.1],\n",
       "       [7.2, 3. , 5.8, 1.6],\n",
       "       [7.4, 2.8, 6.1, 1.9],\n",
       "       [7.9, 3.8, 6.4, 2. ],\n",
       "       [6.4, 2.8, 5.6, 2.2],\n",
       "       [6.3, 2.8, 5.1, 1.5],\n",
       "       [6.1, 2.6, 5.6, 1.4],\n",
       "       [7.7, 3. , 6.1, 2.3],\n",
       "       [6.3, 3.4, 5.6, 2.4],\n",
       "       [6.4, 3.1, 5.5, 1.8],\n",
       "       [6. , 3. , 4.8, 1.8],\n",
       "       [6.9, 3.1, 5.4, 2.1],\n",
       "       [6.7, 3.1, 5.6, 2.4],\n",
       "       [6.9, 3.1, 5.1, 2.3],\n",
       "       [5.8, 2.7, 5.1, 1.9],\n",
       "       [6.8, 3.2, 5.9, 2.3],\n",
       "       [6.7, 3.3, 5.7, 2.5],\n",
       "       [6.7, 3. , 5.2, 2.3],\n",
       "       [6.3, 2.5, 5. , 1.9],\n",
       "       [6.5, 3. , 5.2, 2. ],\n",
       "       [6.2, 3.4, 5.4, 2.3],\n",
       "       [5.9, 3. , 5.1, 1.8]])"
      ]
     },
     "execution_count": 23,
     "metadata": {},
     "output_type": "execute_result"
    }
   ],
   "source": [
    "features=df_copy.iloc[:,:4].to_numpy()\n",
    "features"
   ]
  },
  {
   "cell_type": "code",
   "execution_count": 32,
   "id": "50976f4b",
   "metadata": {},
   "outputs": [
    {
     "name": "stdout",
     "output_type": "stream",
     "text": [
      "[[0. 0. 1.]\n",
      " [0. 0. 1.]\n",
      " [0. 0. 1.]\n",
      " [0. 0. 1.]\n",
      " [0. 0. 1.]\n",
      " [0. 0. 1.]\n",
      " [0. 0. 1.]\n",
      " [0. 0. 1.]\n",
      " [0. 0. 1.]\n",
      " [0. 0. 1.]\n",
      " [0. 0. 1.]\n",
      " [0. 0. 1.]\n",
      " [0. 0. 1.]\n",
      " [0. 0. 1.]\n",
      " [0. 0. 1.]\n",
      " [0. 0. 1.]\n",
      " [0. 0. 1.]\n",
      " [0. 0. 1.]\n",
      " [0. 0. 1.]\n",
      " [0. 0. 1.]\n",
      " [0. 0. 1.]\n",
      " [0. 0. 1.]\n",
      " [0. 0. 1.]\n",
      " [0. 0. 1.]\n",
      " [0. 0. 1.]\n",
      " [0. 0. 1.]\n",
      " [0. 0. 1.]\n",
      " [0. 0. 1.]\n",
      " [0. 0. 1.]\n",
      " [0. 0. 1.]\n",
      " [0. 0. 1.]\n",
      " [0. 0. 1.]\n",
      " [0. 0. 1.]\n",
      " [0. 0. 1.]\n",
      " [0. 0. 1.]\n",
      " [0. 0. 1.]\n",
      " [0. 0. 1.]\n",
      " [0. 0. 1.]\n",
      " [0. 0. 1.]\n",
      " [0. 0. 1.]\n",
      " [0. 0. 1.]\n",
      " [0. 0. 1.]\n",
      " [0. 0. 1.]\n",
      " [0. 0. 1.]\n",
      " [0. 0. 1.]\n",
      " [0. 0. 1.]\n",
      " [0. 0. 1.]\n",
      " [0. 0. 1.]\n",
      " [0. 0. 1.]\n",
      " [0. 0. 1.]\n",
      " [1. 0. 0.]\n",
      " [1. 0. 0.]\n",
      " [1. 0. 0.]\n",
      " [1. 0. 0.]\n",
      " [1. 0. 0.]\n",
      " [1. 0. 0.]\n",
      " [1. 0. 0.]\n",
      " [1. 0. 0.]\n",
      " [1. 0. 0.]\n",
      " [1. 0. 0.]\n",
      " [1. 0. 0.]\n",
      " [1. 0. 0.]\n",
      " [1. 0. 0.]\n",
      " [1. 0. 0.]\n",
      " [1. 0. 0.]\n",
      " [1. 0. 0.]\n",
      " [1. 0. 0.]\n",
      " [1. 0. 0.]\n",
      " [1. 0. 0.]\n",
      " [1. 0. 0.]\n",
      " [1. 0. 0.]\n",
      " [1. 0. 0.]\n",
      " [1. 0. 0.]\n",
      " [1. 0. 0.]\n",
      " [1. 0. 0.]\n",
      " [1. 0. 0.]\n",
      " [1. 0. 0.]\n",
      " [1. 0. 0.]\n",
      " [1. 0. 0.]\n",
      " [1. 0. 0.]\n",
      " [1. 0. 0.]\n",
      " [1. 0. 0.]\n",
      " [1. 0. 0.]\n",
      " [1. 0. 0.]\n",
      " [1. 0. 0.]\n",
      " [1. 0. 0.]\n",
      " [1. 0. 0.]\n",
      " [1. 0. 0.]\n",
      " [1. 0. 0.]\n",
      " [1. 0. 0.]\n",
      " [1. 0. 0.]\n",
      " [1. 0. 0.]\n",
      " [1. 0. 0.]\n",
      " [1. 0. 0.]\n",
      " [1. 0. 0.]\n",
      " [1. 0. 0.]\n",
      " [1. 0. 0.]\n",
      " [1. 0. 0.]\n",
      " [1. 0. 0.]\n",
      " [1. 0. 0.]\n",
      " [0. 1. 0.]\n",
      " [0. 1. 0.]\n",
      " [0. 1. 0.]\n",
      " [0. 1. 0.]\n",
      " [0. 1. 0.]\n",
      " [0. 1. 0.]\n",
      " [0. 1. 0.]\n",
      " [0. 1. 0.]\n",
      " [0. 1. 0.]\n",
      " [0. 1. 0.]\n",
      " [0. 1. 0.]\n",
      " [0. 1. 0.]\n",
      " [0. 1. 0.]\n",
      " [0. 1. 0.]\n",
      " [0. 1. 0.]\n",
      " [0. 1. 0.]\n",
      " [0. 1. 0.]\n",
      " [0. 1. 0.]\n",
      " [0. 1. 0.]\n",
      " [0. 1. 0.]\n",
      " [0. 1. 0.]\n",
      " [0. 1. 0.]\n",
      " [0. 1. 0.]\n",
      " [0. 1. 0.]\n",
      " [0. 1. 0.]\n",
      " [0. 1. 0.]\n",
      " [0. 1. 0.]\n",
      " [0. 1. 0.]\n",
      " [0. 1. 0.]\n",
      " [0. 1. 0.]\n",
      " [0. 1. 0.]\n",
      " [0. 1. 0.]\n",
      " [0. 1. 0.]\n",
      " [0. 1. 0.]\n",
      " [0. 1. 0.]\n",
      " [0. 1. 0.]\n",
      " [0. 1. 0.]\n",
      " [0. 1. 0.]\n",
      " [0. 1. 0.]\n",
      " [0. 1. 0.]\n",
      " [0. 1. 0.]\n",
      " [0. 1. 0.]\n",
      " [0. 1. 0.]\n",
      " [0. 1. 0.]\n",
      " [0. 1. 0.]\n",
      " [0. 1. 0.]\n",
      " [0. 1. 0.]\n",
      " [0. 1. 0.]\n",
      " [0. 1. 0.]\n",
      " [0. 1. 0.]]\n"
     ]
    }
   ],
   "source": [
    "Write your code here"
   ]
  },
  {
   "cell_type": "code",
   "execution_count": 24,
   "id": "be1a82ba",
   "metadata": {},
   "outputs": [
    {
     "data": {
      "text/plain": [
       "array([[0, 0, 1],\n",
       "       [0, 0, 1],\n",
       "       [0, 0, 1],\n",
       "       [0, 0, 1],\n",
       "       [0, 0, 1],\n",
       "       [0, 0, 1],\n",
       "       [0, 0, 1],\n",
       "       [0, 0, 1],\n",
       "       [0, 0, 1],\n",
       "       [0, 0, 1],\n",
       "       [0, 0, 1],\n",
       "       [0, 0, 1],\n",
       "       [0, 0, 1],\n",
       "       [0, 0, 1],\n",
       "       [0, 0, 1],\n",
       "       [0, 0, 1],\n",
       "       [0, 0, 1],\n",
       "       [0, 0, 1],\n",
       "       [0, 0, 1],\n",
       "       [0, 0, 1],\n",
       "       [0, 0, 1],\n",
       "       [0, 0, 1],\n",
       "       [0, 0, 1],\n",
       "       [0, 0, 1],\n",
       "       [0, 0, 1],\n",
       "       [0, 0, 1],\n",
       "       [0, 0, 1],\n",
       "       [0, 0, 1],\n",
       "       [0, 0, 1],\n",
       "       [0, 0, 1],\n",
       "       [0, 0, 1],\n",
       "       [0, 0, 1],\n",
       "       [0, 0, 1],\n",
       "       [0, 0, 1],\n",
       "       [0, 0, 1],\n",
       "       [0, 0, 1],\n",
       "       [0, 0, 1],\n",
       "       [0, 0, 1],\n",
       "       [0, 0, 1],\n",
       "       [0, 0, 1],\n",
       "       [0, 0, 1],\n",
       "       [0, 0, 1],\n",
       "       [0, 0, 1],\n",
       "       [0, 0, 1],\n",
       "       [0, 0, 1],\n",
       "       [0, 0, 1],\n",
       "       [0, 0, 1],\n",
       "       [0, 0, 1],\n",
       "       [0, 0, 1],\n",
       "       [0, 0, 1],\n",
       "       [1, 0, 0],\n",
       "       [1, 0, 0],\n",
       "       [1, 0, 0],\n",
       "       [1, 0, 0],\n",
       "       [1, 0, 0],\n",
       "       [1, 0, 0],\n",
       "       [1, 0, 0],\n",
       "       [1, 0, 0],\n",
       "       [1, 0, 0],\n",
       "       [1, 0, 0],\n",
       "       [1, 0, 0],\n",
       "       [1, 0, 0],\n",
       "       [1, 0, 0],\n",
       "       [1, 0, 0],\n",
       "       [1, 0, 0],\n",
       "       [1, 0, 0],\n",
       "       [1, 0, 0],\n",
       "       [1, 0, 0],\n",
       "       [1, 0, 0],\n",
       "       [1, 0, 0],\n",
       "       [1, 0, 0],\n",
       "       [1, 0, 0],\n",
       "       [1, 0, 0],\n",
       "       [1, 0, 0],\n",
       "       [1, 0, 0],\n",
       "       [1, 0, 0],\n",
       "       [1, 0, 0],\n",
       "       [1, 0, 0],\n",
       "       [1, 0, 0],\n",
       "       [1, 0, 0],\n",
       "       [1, 0, 0],\n",
       "       [1, 0, 0],\n",
       "       [1, 0, 0],\n",
       "       [1, 0, 0],\n",
       "       [1, 0, 0],\n",
       "       [1, 0, 0],\n",
       "       [1, 0, 0],\n",
       "       [1, 0, 0],\n",
       "       [1, 0, 0],\n",
       "       [1, 0, 0],\n",
       "       [1, 0, 0],\n",
       "       [1, 0, 0],\n",
       "       [1, 0, 0],\n",
       "       [1, 0, 0],\n",
       "       [1, 0, 0],\n",
       "       [1, 0, 0],\n",
       "       [1, 0, 0],\n",
       "       [1, 0, 0],\n",
       "       [1, 0, 0],\n",
       "       [1, 0, 0],\n",
       "       [0, 1, 0],\n",
       "       [0, 1, 0],\n",
       "       [0, 1, 0],\n",
       "       [0, 1, 0],\n",
       "       [0, 1, 0],\n",
       "       [0, 1, 0],\n",
       "       [0, 1, 0],\n",
       "       [0, 1, 0],\n",
       "       [0, 1, 0],\n",
       "       [0, 1, 0],\n",
       "       [0, 1, 0],\n",
       "       [0, 1, 0],\n",
       "       [0, 1, 0],\n",
       "       [0, 1, 0],\n",
       "       [0, 1, 0],\n",
       "       [0, 1, 0],\n",
       "       [0, 1, 0],\n",
       "       [0, 1, 0],\n",
       "       [0, 1, 0],\n",
       "       [0, 1, 0],\n",
       "       [0, 1, 0],\n",
       "       [0, 1, 0],\n",
       "       [0, 1, 0],\n",
       "       [0, 1, 0],\n",
       "       [0, 1, 0],\n",
       "       [0, 1, 0],\n",
       "       [0, 1, 0],\n",
       "       [0, 1, 0],\n",
       "       [0, 1, 0],\n",
       "       [0, 1, 0],\n",
       "       [0, 1, 0],\n",
       "       [0, 1, 0],\n",
       "       [0, 1, 0],\n",
       "       [0, 1, 0],\n",
       "       [0, 1, 0],\n",
       "       [0, 1, 0],\n",
       "       [0, 1, 0],\n",
       "       [0, 1, 0],\n",
       "       [0, 1, 0],\n",
       "       [0, 1, 0],\n",
       "       [0, 1, 0],\n",
       "       [0, 1, 0],\n",
       "       [0, 1, 0],\n",
       "       [0, 1, 0],\n",
       "       [0, 1, 0],\n",
       "       [0, 1, 0],\n",
       "       [0, 1, 0],\n",
       "       [0, 1, 0],\n",
       "       [0, 1, 0],\n",
       "       [0, 1, 0]])"
      ]
     },
     "execution_count": 24,
     "metadata": {},
     "output_type": "execute_result"
    }
   ],
   "source": [
    "#Write your code here\n",
    "features2=df_copy.iloc[:,4:].to_numpy()\n",
    "features2"
   ]
  },
  {
   "cell_type": "markdown",
   "id": "c5e3e9f2",
   "metadata": {},
   "source": [
    "## Task 7\n",
    "\n",
    "Normalize features in the ``iris_dataset`` into the range of $<0,1>$ using min-max norm according to the following formula:\n",
    "\n",
    "$$ y = \\frac{y_{max} - y_{min}}{x_{max}-x_{min}}(x - x_{min}) + y_{min} $$\n",
    "\n",
    "where $x$ is raw value and $y$ is the normalised value. The $y_{min}$ and $y_{max}$ determine the output range. The $x_{max}$ and $x_{min}$ denote the input range. \n",
    "\n",
    "For this task $y_{max}=1$, $y_{min}=0$. The $x_{max}$ and $x_{min}$ must be obtained from the dataset, for each column separately. \n",
    "\n",
    "The result prints with limited precision to two decimal digits (0.00)."
   ]
  },
  {
   "cell_type": "code",
   "execution_count": 33,
   "id": "18073beb",
   "metadata": {},
   "outputs": [
    {
     "name": "stdout",
     "output_type": "stream",
     "text": [
      "x_min: [4.3 2.  1.  0.1]\n",
      "x_max: [7.9 4.4 6.9 2.5]\n",
      "y_min: [0. 0. 0. 0.]\n",
      "y_max: [1. 1. 1. 1.]\n"
     ]
    }
   ],
   "source": [
    "Write your code here"
   ]
  },
  {
   "cell_type": "code",
   "execution_count": 25,
   "id": "19e74a3f",
   "metadata": {},
   "outputs": [
    {
     "name": "stdout",
     "output_type": "stream",
     "text": [
      "[7.9 4.4 6.9 2.5] \n",
      " [4.3 2.  1.  0.1] \n",
      " [1, 1, 1, 1] \n",
      " [0, 0, 0, 0]\n"
     ]
    }
   ],
   "source": [
    "x_max=[]\n",
    "x_min=[]\n",
    "y_min=[0,0,0,0]\n",
    "y_max= [1,1,1,1]\n",
    "x_max=np.amax(features,axis=0)\n",
    "x_min=np.amin(features,axis=0)\n",
    "\n",
    "print(x_max,'\\n',x_min,'\\n',y_max,'\\n',y_min)"
   ]
  },
  {
   "cell_type": "code",
   "execution_count": 34,
   "id": "5053508b",
   "metadata": {},
   "outputs": [
    {
     "name": "stdout",
     "output_type": "stream",
     "text": [
      "0.22 0.62 0.07 0.04\n",
      "0.17 0.42 0.07 0.04\n",
      "0.11 0.50 0.05 0.04\n",
      "0.08 0.46 0.08 0.04\n",
      "0.19 0.67 0.07 0.04\n",
      "0.31 0.79 0.12 0.12\n",
      "0.08 0.58 0.07 0.08\n",
      "0.19 0.58 0.08 0.04\n",
      "0.03 0.38 0.07 0.04\n",
      "0.17 0.46 0.08 0.00\n",
      "0.31 0.71 0.08 0.04\n",
      "0.14 0.58 0.10 0.04\n",
      "0.14 0.42 0.07 0.00\n",
      "0.00 0.42 0.02 0.00\n",
      "0.42 0.83 0.03 0.04\n",
      "0.39 1.00 0.08 0.12\n",
      "0.31 0.79 0.05 0.12\n",
      "0.22 0.62 0.07 0.08\n",
      "0.39 0.75 0.12 0.08\n",
      "0.22 0.75 0.08 0.08\n",
      "0.31 0.58 0.12 0.04\n",
      "0.22 0.71 0.08 0.12\n",
      "0.08 0.67 0.00 0.04\n",
      "0.22 0.54 0.12 0.17\n",
      "0.14 0.58 0.15 0.04\n",
      "0.19 0.42 0.10 0.04\n",
      "0.19 0.58 0.10 0.12\n",
      "0.25 0.62 0.08 0.04\n",
      "0.25 0.58 0.07 0.04\n",
      "0.11 0.50 0.10 0.04\n",
      "0.14 0.46 0.10 0.04\n",
      "0.31 0.58 0.08 0.12\n",
      "0.25 0.87 0.08 0.00\n",
      "0.33 0.92 0.07 0.04\n",
      "0.17 0.46 0.08 0.00\n",
      "0.19 0.50 0.03 0.04\n",
      "0.33 0.62 0.05 0.04\n",
      "0.17 0.46 0.08 0.00\n",
      "0.03 0.42 0.05 0.04\n",
      "0.22 0.58 0.08 0.04\n",
      "0.19 0.62 0.05 0.08\n",
      "0.06 0.12 0.05 0.08\n",
      "0.03 0.50 0.05 0.04\n",
      "0.19 0.62 0.10 0.21\n",
      "0.22 0.75 0.15 0.12\n",
      "0.14 0.42 0.07 0.08\n",
      "0.22 0.75 0.10 0.04\n",
      "0.08 0.50 0.07 0.04\n",
      "0.28 0.71 0.08 0.04\n",
      "0.19 0.54 0.07 0.04\n",
      "0.75 0.50 0.63 0.54\n",
      "0.58 0.50 0.59 0.58\n",
      "0.72 0.46 0.66 0.58\n",
      "0.33 0.12 0.51 0.50\n",
      "0.61 0.33 0.61 0.58\n",
      "0.39 0.33 0.59 0.50\n",
      "0.56 0.54 0.63 0.62\n",
      "0.17 0.17 0.39 0.37\n",
      "0.64 0.38 0.61 0.50\n",
      "0.25 0.29 0.49 0.54\n",
      "0.19 0.00 0.42 0.37\n",
      "0.44 0.42 0.54 0.58\n",
      "0.47 0.08 0.51 0.37\n",
      "0.50 0.38 0.63 0.54\n",
      "0.36 0.38 0.44 0.50\n",
      "0.67 0.46 0.58 0.54\n",
      "0.36 0.42 0.59 0.58\n",
      "0.42 0.29 0.53 0.37\n",
      "0.53 0.08 0.59 0.58\n",
      "0.36 0.21 0.49 0.42\n",
      "0.44 0.50 0.64 0.71\n",
      "0.50 0.33 0.51 0.50\n",
      "0.56 0.21 0.66 0.58\n",
      "0.50 0.33 0.63 0.46\n",
      "0.58 0.38 0.56 0.50\n",
      "0.64 0.42 0.58 0.54\n",
      "0.69 0.33 0.64 0.54\n",
      "0.67 0.42 0.68 0.67\n",
      "0.47 0.38 0.59 0.58\n",
      "0.39 0.25 0.42 0.37\n",
      "0.33 0.17 0.47 0.42\n",
      "0.33 0.17 0.46 0.37\n",
      "0.42 0.29 0.49 0.46\n",
      "0.47 0.29 0.69 0.62\n",
      "0.31 0.42 0.59 0.58\n",
      "0.47 0.58 0.59 0.62\n",
      "0.67 0.46 0.63 0.58\n",
      "0.56 0.12 0.58 0.50\n",
      "0.36 0.42 0.53 0.50\n",
      "0.33 0.21 0.51 0.50\n",
      "0.33 0.25 0.58 0.46\n",
      "0.50 0.42 0.61 0.54\n",
      "0.42 0.25 0.51 0.46\n",
      "0.19 0.12 0.39 0.37\n",
      "0.36 0.29 0.54 0.50\n",
      "0.39 0.42 0.54 0.46\n",
      "0.39 0.38 0.54 0.50\n",
      "0.53 0.38 0.56 0.50\n",
      "0.22 0.21 0.34 0.42\n",
      "0.39 0.33 0.53 0.50\n",
      "0.56 0.54 0.85 1.00\n",
      "0.42 0.29 0.69 0.75\n",
      "0.78 0.42 0.83 0.83\n",
      "0.56 0.38 0.78 0.71\n",
      "0.61 0.42 0.81 0.88\n",
      "0.92 0.42 0.95 0.83\n",
      "0.17 0.21 0.59 0.67\n",
      "0.83 0.38 0.90 0.71\n",
      "0.67 0.21 0.81 0.71\n",
      "0.81 0.67 0.86 1.00\n",
      "0.61 0.50 0.69 0.79\n",
      "0.58 0.29 0.73 0.75\n",
      "0.69 0.42 0.76 0.83\n",
      "0.39 0.21 0.68 0.79\n",
      "0.42 0.33 0.69 0.96\n",
      "0.58 0.50 0.73 0.92\n",
      "0.61 0.42 0.76 0.71\n",
      "0.94 0.75 0.97 0.88\n",
      "0.94 0.25 1.00 0.92\n",
      "0.47 0.08 0.68 0.58\n",
      "0.72 0.50 0.80 0.92\n",
      "0.36 0.33 0.66 0.79\n",
      "0.94 0.33 0.97 0.79\n",
      "0.56 0.29 0.66 0.71\n",
      "0.67 0.54 0.80 0.83\n",
      "0.81 0.50 0.85 0.71\n",
      "0.53 0.33 0.64 0.71\n",
      "0.50 0.42 0.66 0.71\n",
      "0.58 0.33 0.78 0.83\n",
      "0.81 0.42 0.81 0.62\n",
      "0.86 0.33 0.86 0.75\n",
      "1.00 0.75 0.92 0.79\n",
      "0.58 0.33 0.78 0.88\n",
      "0.56 0.33 0.69 0.58\n",
      "0.50 0.25 0.78 0.54\n",
      "0.94 0.42 0.86 0.92\n",
      "0.56 0.58 0.78 0.96\n",
      "0.58 0.46 0.76 0.71\n",
      "0.47 0.42 0.64 0.71\n",
      "0.72 0.46 0.75 0.83\n",
      "0.67 0.46 0.78 0.96\n",
      "0.72 0.46 0.69 0.92\n",
      "0.42 0.29 0.69 0.75\n",
      "0.69 0.50 0.83 0.92\n",
      "0.67 0.54 0.80 1.00\n",
      "0.67 0.42 0.71 0.92\n",
      "0.56 0.21 0.68 0.75\n",
      "0.61 0.42 0.71 0.79\n",
      "0.53 0.58 0.75 0.92\n",
      "0.44 0.42 0.69 0.71\n"
     ]
    }
   ],
   "source": [
    "Write your code here"
   ]
  },
  {
   "cell_type": "code",
   "execution_count": 26,
   "id": "6815aaa8",
   "metadata": {},
   "outputs": [
    {
     "data": {
      "text/plain": [
       "array([[0.22, 0.62, 0.07, 0.04],\n",
       "       [0.17, 0.42, 0.07, 0.04],\n",
       "       [0.11, 0.5 , 0.05, 0.04],\n",
       "       [0.08, 0.46, 0.08, 0.04],\n",
       "       [0.19, 0.67, 0.07, 0.04],\n",
       "       [0.31, 0.79, 0.12, 0.13],\n",
       "       [0.08, 0.58, 0.07, 0.08],\n",
       "       [0.19, 0.58, 0.08, 0.04],\n",
       "       [0.03, 0.37, 0.07, 0.04],\n",
       "       [0.17, 0.46, 0.08, 0.  ],\n",
       "       [0.31, 0.71, 0.08, 0.04],\n",
       "       [0.14, 0.58, 0.1 , 0.04],\n",
       "       [0.14, 0.42, 0.07, 0.  ],\n",
       "       [0.  , 0.42, 0.02, 0.  ],\n",
       "       [0.42, 0.83, 0.03, 0.04],\n",
       "       [0.39, 1.  , 0.08, 0.13],\n",
       "       [0.31, 0.79, 0.05, 0.13],\n",
       "       [0.22, 0.62, 0.07, 0.08],\n",
       "       [0.39, 0.75, 0.12, 0.08],\n",
       "       [0.22, 0.75, 0.08, 0.08],\n",
       "       [0.31, 0.58, 0.12, 0.04],\n",
       "       [0.22, 0.71, 0.08, 0.13],\n",
       "       [0.08, 0.67, 0.  , 0.04],\n",
       "       [0.22, 0.54, 0.12, 0.17],\n",
       "       [0.14, 0.58, 0.15, 0.04],\n",
       "       [0.19, 0.42, 0.1 , 0.04],\n",
       "       [0.19, 0.58, 0.1 , 0.13],\n",
       "       [0.25, 0.62, 0.08, 0.04],\n",
       "       [0.25, 0.58, 0.07, 0.04],\n",
       "       [0.11, 0.5 , 0.1 , 0.04],\n",
       "       [0.14, 0.46, 0.1 , 0.04],\n",
       "       [0.31, 0.58, 0.08, 0.13],\n",
       "       [0.25, 0.87, 0.08, 0.  ],\n",
       "       [0.33, 0.92, 0.07, 0.04],\n",
       "       [0.17, 0.46, 0.08, 0.  ],\n",
       "       [0.19, 0.5 , 0.03, 0.04],\n",
       "       [0.33, 0.62, 0.05, 0.04],\n",
       "       [0.17, 0.46, 0.08, 0.  ],\n",
       "       [0.03, 0.42, 0.05, 0.04],\n",
       "       [0.22, 0.58, 0.08, 0.04],\n",
       "       [0.19, 0.62, 0.05, 0.08],\n",
       "       [0.06, 0.12, 0.05, 0.08],\n",
       "       [0.03, 0.5 , 0.05, 0.04],\n",
       "       [0.19, 0.62, 0.1 , 0.21],\n",
       "       [0.22, 0.75, 0.15, 0.13],\n",
       "       [0.14, 0.42, 0.07, 0.08],\n",
       "       [0.22, 0.75, 0.1 , 0.04],\n",
       "       [0.08, 0.5 , 0.07, 0.04],\n",
       "       [0.28, 0.71, 0.08, 0.04],\n",
       "       [0.19, 0.54, 0.07, 0.04],\n",
       "       [0.75, 0.5 , 0.63, 0.54],\n",
       "       [0.58, 0.5 , 0.59, 0.58],\n",
       "       [0.72, 0.46, 0.66, 0.58],\n",
       "       [0.33, 0.12, 0.51, 0.5 ],\n",
       "       [0.61, 0.33, 0.61, 0.58],\n",
       "       [0.39, 0.33, 0.59, 0.5 ],\n",
       "       [0.56, 0.54, 0.63, 0.62],\n",
       "       [0.17, 0.17, 0.39, 0.38],\n",
       "       [0.64, 0.37, 0.61, 0.5 ],\n",
       "       [0.25, 0.29, 0.49, 0.54],\n",
       "       [0.19, 0.  , 0.42, 0.38],\n",
       "       [0.44, 0.42, 0.54, 0.58],\n",
       "       [0.47, 0.08, 0.51, 0.38],\n",
       "       [0.5 , 0.37, 0.63, 0.54],\n",
       "       [0.36, 0.37, 0.44, 0.5 ],\n",
       "       [0.67, 0.46, 0.58, 0.54],\n",
       "       [0.36, 0.42, 0.59, 0.58],\n",
       "       [0.42, 0.29, 0.53, 0.38],\n",
       "       [0.53, 0.08, 0.59, 0.58],\n",
       "       [0.36, 0.21, 0.49, 0.42],\n",
       "       [0.44, 0.5 , 0.64, 0.71],\n",
       "       [0.5 , 0.33, 0.51, 0.5 ],\n",
       "       [0.56, 0.21, 0.66, 0.58],\n",
       "       [0.5 , 0.33, 0.63, 0.46],\n",
       "       [0.58, 0.37, 0.56, 0.5 ],\n",
       "       [0.64, 0.42, 0.58, 0.54],\n",
       "       [0.69, 0.33, 0.64, 0.54],\n",
       "       [0.67, 0.42, 0.68, 0.67],\n",
       "       [0.47, 0.37, 0.59, 0.58],\n",
       "       [0.39, 0.25, 0.42, 0.38],\n",
       "       [0.33, 0.17, 0.47, 0.42],\n",
       "       [0.33, 0.17, 0.46, 0.38],\n",
       "       [0.42, 0.29, 0.49, 0.46],\n",
       "       [0.47, 0.29, 0.69, 0.62],\n",
       "       [0.31, 0.42, 0.59, 0.58],\n",
       "       [0.47, 0.58, 0.59, 0.62],\n",
       "       [0.67, 0.46, 0.63, 0.58],\n",
       "       [0.56, 0.12, 0.58, 0.5 ],\n",
       "       [0.36, 0.42, 0.53, 0.5 ],\n",
       "       [0.33, 0.21, 0.51, 0.5 ],\n",
       "       [0.33, 0.25, 0.58, 0.46],\n",
       "       [0.5 , 0.42, 0.61, 0.54],\n",
       "       [0.42, 0.25, 0.51, 0.46],\n",
       "       [0.19, 0.12, 0.39, 0.38],\n",
       "       [0.36, 0.29, 0.54, 0.5 ],\n",
       "       [0.39, 0.42, 0.54, 0.46],\n",
       "       [0.39, 0.37, 0.54, 0.5 ],\n",
       "       [0.53, 0.37, 0.56, 0.5 ],\n",
       "       [0.22, 0.21, 0.34, 0.42],\n",
       "       [0.39, 0.33, 0.53, 0.5 ],\n",
       "       [0.56, 0.54, 0.85, 1.  ],\n",
       "       [0.42, 0.29, 0.69, 0.75],\n",
       "       [0.78, 0.42, 0.83, 0.83],\n",
       "       [0.56, 0.37, 0.78, 0.71],\n",
       "       [0.61, 0.42, 0.81, 0.88],\n",
       "       [0.92, 0.42, 0.95, 0.83],\n",
       "       [0.17, 0.21, 0.59, 0.67],\n",
       "       [0.83, 0.37, 0.9 , 0.71],\n",
       "       [0.67, 0.21, 0.81, 0.71],\n",
       "       [0.81, 0.67, 0.86, 1.  ],\n",
       "       [0.61, 0.5 , 0.69, 0.79],\n",
       "       [0.58, 0.29, 0.73, 0.75],\n",
       "       [0.69, 0.42, 0.76, 0.83],\n",
       "       [0.39, 0.21, 0.68, 0.79],\n",
       "       [0.42, 0.33, 0.69, 0.96],\n",
       "       [0.58, 0.5 , 0.73, 0.92],\n",
       "       [0.61, 0.42, 0.76, 0.71],\n",
       "       [0.94, 0.75, 0.97, 0.88],\n",
       "       [0.94, 0.25, 1.  , 0.92],\n",
       "       [0.47, 0.08, 0.68, 0.58],\n",
       "       [0.72, 0.5 , 0.8 , 0.92],\n",
       "       [0.36, 0.33, 0.66, 0.79],\n",
       "       [0.94, 0.33, 0.97, 0.79],\n",
       "       [0.56, 0.29, 0.66, 0.71],\n",
       "       [0.67, 0.54, 0.8 , 0.83],\n",
       "       [0.81, 0.5 , 0.85, 0.71],\n",
       "       [0.53, 0.33, 0.64, 0.71],\n",
       "       [0.5 , 0.42, 0.66, 0.71],\n",
       "       [0.58, 0.33, 0.78, 0.83],\n",
       "       [0.81, 0.42, 0.81, 0.62],\n",
       "       [0.86, 0.33, 0.86, 0.75],\n",
       "       [1.  , 0.75, 0.92, 0.79],\n",
       "       [0.58, 0.33, 0.78, 0.88],\n",
       "       [0.56, 0.33, 0.69, 0.58],\n",
       "       [0.5 , 0.25, 0.78, 0.54],\n",
       "       [0.94, 0.42, 0.86, 0.92],\n",
       "       [0.56, 0.58, 0.78, 0.96],\n",
       "       [0.58, 0.46, 0.76, 0.71],\n",
       "       [0.47, 0.42, 0.64, 0.71],\n",
       "       [0.72, 0.46, 0.75, 0.83],\n",
       "       [0.67, 0.46, 0.78, 0.96],\n",
       "       [0.72, 0.46, 0.69, 0.92],\n",
       "       [0.42, 0.29, 0.69, 0.75],\n",
       "       [0.69, 0.5 , 0.83, 0.92],\n",
       "       [0.67, 0.54, 0.8 , 1.  ],\n",
       "       [0.67, 0.42, 0.71, 0.92],\n",
       "       [0.56, 0.21, 0.68, 0.75],\n",
       "       [0.61, 0.42, 0.71, 0.79],\n",
       "       [0.53, 0.58, 0.75, 0.92],\n",
       "       [0.44, 0.42, 0.69, 0.71]])"
      ]
     },
     "execution_count": 26,
     "metadata": {},
     "output_type": "execute_result"
    }
   ],
   "source": [
    "#Write your code here\n",
    "df2=features\n",
    "t=[]\n",
    "for i in df2:\n",
    "    y=((np.array(y_max)-np.array(y_min))/(np.array(x_max)-np.array(x_min)))*(np.array(i)-np.array(x_min))+(np.array(y_min))\n",
    "    t.append(np.round(y,decimals=2))\n",
    "np.array(t)"
   ]
  },
  {
   "cell_type": "code",
   "execution_count": 35,
   "id": "1d24e80a",
   "metadata": {},
   "outputs": [
    {
     "data": {
      "image/png": "[encoded data removed]",
      "text/plain": [
       "<Figure size 432x288 with 1 Axes>"
      ]
     },
     "metadata": {
      "needs_background": "light"
     },
     "output_type": "display_data"
    }
   ],
   "source": [
    "Write your code here"
   ]
  },
  {
   "cell_type": "code",
   "execution_count": 28,
   "id": "824d7d41",
   "metadata": {},
   "outputs": [
    {
     "data": {
      "text/plain": [
       "<AxesSubplot:xlabel='0', ylabel='1'>"
      ]
     },
     "execution_count": 28,
     "metadata": {},
     "output_type": "execute_result"
    },
    {
     "data": {
      "image/png": "[encoded data removed]",
      "text/plain": [
       "<Figure size 432x288 with 1 Axes>"
      ]
     },
     "metadata": {
      "needs_background": "light"
     },
     "output_type": "display_data"
    }
   ],
   "source": [
    "#Write your code here\n",
    "import matplotlib.pyplot as plt\n",
    "import seaborn as sns\n",
    "\n",
    "data=pd.DataFrame(t)\n",
    "sns.scatterplot(data=data,x=data[0],y=data[1],hue=df3[4],palette='deep')"
   ]
  },
  {
   "cell_type": "markdown",
   "id": "6f7cec4e",
   "metadata": {},
   "source": [
    "# Task 8\n",
    "\n",
    "The sigmoid function is frequently used activation of a neuron. It is defined by\n",
    "\n",
    "$$y=\\sigma(x)=\\frac{1}{1+e^{-x}}$$ \n",
    "\n",
    "Draw a graf of this function for $x\\in <-8,8>$. "
   ]
  },
  {
   "cell_type": "code",
   "execution_count": 36,
   "id": "c34bcbd9",
   "metadata": {},
   "outputs": [
    {
     "data": {
      "image/png": "[encoded data removed]",
      "text/plain": [
       "<Figure size 432x288 with 1 Axes>"
      ]
     },
     "metadata": {
      "needs_background": "light"
     },
     "output_type": "display_data"
    }
   ],
   "source": [
    "Write your code here"
   ]
  },
  {
   "cell_type": "code",
   "execution_count": 29,
   "id": "0b033352",
   "metadata": {},
   "outputs": [
    {
     "data": {
      "image/png": "[encoded data removed]",
      "text/plain": [
       "<Figure size 432x288 with 1 Axes>"
      ]
     },
     "metadata": {
      "needs_background": "light"
     },
     "output_type": "display_data"
    }
   ],
   "source": [
    "import numpy as np\n",
    "import math\n",
    "import matplotlib.pyplot as plt\n",
    "def sigmoid(x):\n",
    "    a=[]\n",
    "    for i in x:\n",
    "        a.append(1/(1+math.exp(-i)))\n",
    "    return a\n",
    "x=np.arange(-8,8,0.2)\n",
    "t=sigmoid(x)\n",
    "plt.plot(x,t,label=r'$\\sigma(x)=\\frac{1}{1+e^{-x}}$')\n",
    "plt.axvspan(0.001,0.0001,color='k')\n",
    "plt.axhline(y=0, xmin=-8, xmax=8,color='k',linestyle = '--', linewidth = 0.5)\n",
    "plt.axhline(y=1, xmin=-8, xmax=8,color='k',linestyle = '--', linewidth = 0.5)\n",
    "plt.axhline(y=0.5, xmin=-8, xmax=8,color='k',linestyle = '--', linewidth = 0.5)\n",
    "plt.xlabel('x')\n",
    "plt.ylabel('y')\n",
    "plt.legend()\n",
    "#plt.grid(color = 'green', linestyle = '--', linewidth = 0.5,axis='y')\n",
    "plt.show()"
   ]
  },
  {
   "cell_type": "markdown",
   "id": "4de790d2",
   "metadata": {},
   "source": [
    "# Task 9\n",
    "\n",
    "The RELU function is frequently used activation function of neurons in deep neural networks. It is defined by\n",
    "\n",
    "$$y=\\mbox{relu}(x)=\\mbox{max}(0, x)$$ \n",
    "\n",
    "Draw a graf of this function for $x\\in <-10,10>$. "
   ]
  },
  {
   "cell_type": "code",
   "execution_count": 37,
   "id": "9ddfbbc5",
   "metadata": {},
   "outputs": [
    {
     "data": {
      "image/png": "[encoded data removed]",
      "text/plain": [
       "<Figure size 432x288 with 1 Axes>"
      ]
     },
     "metadata": {
      "needs_background": "light"
     },
     "output_type": "display_data"
    }
   ],
   "source": [
    "Write your code here"
   ]
  },
  {
   "cell_type": "code",
   "execution_count": 30,
   "id": "2ad8c5d6",
   "metadata": {},
   "outputs": [
    {
     "data": {
      "image/png": "[encoded data removed]",
      "text/plain": [
       "<Figure size 432x288 with 1 Axes>"
      ]
     },
     "metadata": {
      "needs_background": "light"
     },
     "output_type": "display_data"
    }
   ],
   "source": [
    "import numpy as np\n",
    "def relu(x):\n",
    "    a=[]\n",
    "    for i in x:\n",
    "        if i<0:\n",
    "            a.append(0)\n",
    "        else:\n",
    "            a.append(i)\n",
    "    return a\n",
    "\n",
    "x = np.linspace(-10, 10)\n",
    "\n",
    "plt.plot(x,relu(x),label=r'${relu}(x)={max}(0, x)$')\n",
    "plt.axvspan(0.001,0.0001,color='k')\n",
    "plt.axhline(y=0, xmin=-10, xmax=10,color='k',linestyle = '--', linewidth = 0.5)\n",
    "plt.title('Activation Function:RELU')\n",
    "plt.xlabel('x')\n",
    "plt.ylabel('y')\n",
    "plt.legend()\n",
    "plt.show()"
   ]
  },
  {
   "cell_type": "markdown",
   "id": "e17b5d37",
   "metadata": {},
   "source": [
    "# Task 11\n",
    "\n",
    "The Gaussian function is frequently used as an activation function of RBF neurons. It is defined by the equation\n",
    "\n",
    "$$y=g(x)=e^{\\frac{-x^2}{2\\sigma^2}}$$ \n",
    "\n",
    "Draw a graf of this function for $x\\in <-10,10>$ and $\\sigma=\\{0.2,0.5,1,2,5\\}$. "
   ]
  },
  {
   "cell_type": "code",
   "execution_count": 38,
   "id": "e41cdd27",
   "metadata": {},
   "outputs": [
    {
     "data": {
      "image/png": "[encoded data removed]",
      "text/plain": [
       "<Figure size 432x288 with 1 Axes>"
      ]
     },
     "metadata": {
      "needs_background": "light"
     },
     "output_type": "display_data"
    }
   ],
   "source": [
    "Write your code here"
   ]
  },
  {
   "cell_type": "code",
   "execution_count": 31,
   "id": "bda2a02d",
   "metadata": {},
   "outputs": [
    {
     "data": {
      "image/png": "[encoded data removed]",
      "text/plain": [
       "<Figure size 432x288 with 1 Axes>"
      ]
     },
     "metadata": {
      "needs_background": "light"
     },
     "output_type": "display_data"
    }
   ],
   "source": [
    "def draw(x,s):\n",
    "    a=[]\n",
    "    for i in x:\n",
    "        y=math.exp((-i*i)/(2*s*s))\n",
    "        a.append(y)\n",
    "    return a\n",
    "\n",
    "\n",
    "x = np.arange(-10, 10,0.1)\n",
    "\n",
    "plt.axvspan(0.001,0.001,color='grey')\n",
    "plt.axhline(y=0, xmin=-10, xmax=10,color='k',linestyle = '--', linewidth = 0.5)\n",
    "\n",
    "plt.plot(x,draw(x,0.2),label=r'g(x,0.2)')\n",
    "plt.plot(x,draw(x,0.5),label=r'g(x,0.5)')\n",
    "plt.plot(x,draw(x,1),label=r'g(x,1)')\n",
    "plt.plot(x,draw(x,2),label=r'g(x,2)')\n",
    "plt.plot(x,draw(x,5),label=r'g(x,5)')\n",
    "plt.legend()\n",
    "plt.show()\n"
   ]
  },
  {
   "cell_type": "markdown",
   "id": "8462e59f",
   "metadata": {},
   "source": [
    "# Task 12\n",
    "\n",
    "Draw response of the two input perceptron neuron defined by\n",
    "\n",
    "$$y=\\sigma(\\sum_{i=0}^{1}w_ix_i + b)$$\n",
    "\n",
    "where $w_0=10$,$w_1=10$, $b=-10$."
   ]
  },
  {
   "cell_type": "code",
   "execution_count": 39,
   "id": "7f6b0579",
   "metadata": {
    "scrolled": true
   },
   "outputs": [
    {
     "data": {
      "text/plain": [
       "<mpl_toolkits.mplot3d.art3d.Poly3DCollection at 0x19a14595a88>"
      ]
     },
     "execution_count": 39,
     "metadata": {},
     "output_type": "execute_result"
    },
    {
     "data": {
      "image/png": "[encoded data removed]",
      "text/plain": [
       "<Figure size 432x288 with 1 Axes>"
      ]
     },
     "metadata": {
      "needs_background": "light"
     },
     "output_type": "display_data"
    }
   ],
   "source": [
    "Write your code here"
   ]
  },
  {
   "cell_type": "code",
   "execution_count": 32,
   "id": "11959bb9",
   "metadata": {},
   "outputs": [
    {
     "data": {
      "image/png": "[encoded data removed]",
      "text/plain": [
       "<Figure size 432x288 with 1 Axes>"
      ]
     },
     "metadata": {
      "needs_background": "light"
     },
     "output_type": "display_data"
    }
   ],
   "source": [
    "from mpl_toolkits.mplot3d import Axes3D\n",
    "\n",
    "w0=10\n",
    "w1=10\n",
    "b=-10\n",
    "fig = plt.figure()\n",
    "ax = fig.gca(projection='3d')\n",
    "\n",
    "x=np.arange(0,1,0.01)\n",
    "y=np.arange(0,1,0.01)\n",
    "\n",
    "x0,x1=np.meshgrid(x,y)\n",
    "\n",
    "def funct():\n",
    "    z=((w0*x0)+(w1*x1))+b\n",
    "    t=1/(1+np.exp(-z))\n",
    "    return t\n",
    "\n",
    "q=funct()\n",
    "surf = ax.plot_surface(x0,x1,q,cmap='plasma')\n",
    "\n",
    "plt.show()"
   ]
  },
  {
   "cell_type": "markdown",
   "id": "251eeede",
   "metadata": {},
   "source": [
    "# Task 13\n",
    "\n",
    "Draw response of the two input RBF neuron defined by\n",
    "\n",
    "$$y=g(\\sum_{i=0}^{1}(x_i-c_i)^2)$$\n",
    "\n",
    "where $c_0=0.5$, $c_1=0.5$, $\\sigma=0.15$."
   ]
  },
  {
   "cell_type": "code",
   "execution_count": 40,
   "id": "8d8c68ef",
   "metadata": {},
   "outputs": [
    {
     "data": {
      "text/plain": [
       "<mpl_toolkits.mplot3d.art3d.Poly3DCollection at 0x19a1567fdc8>"
      ]
     },
     "execution_count": 40,
     "metadata": {},
     "output_type": "execute_result"
    },
    {
     "data": {
      "image/png": "[encoded data removed]",
      "text/plain": [
       "<Figure size 432x288 with 1 Axes>"
      ]
     },
     "metadata": {
      "needs_background": "light"
     },
     "output_type": "display_data"
    }
   ],
   "source": [
    "Write your code here"
   ]
  },
  {
   "cell_type": "code",
   "execution_count": 33,
   "id": "b0400e6c",
   "metadata": {},
   "outputs": [
    {
     "data": {
      "image/png": "[encoded data removed]",
      "text/plain": [
       "<Figure size 432x288 with 1 Axes>"
      ]
     },
     "metadata": {
      "needs_background": "light"
     },
     "output_type": "display_data"
    }
   ],
   "source": [
    "from mpl_toolkits.mplot3d import Axes3D\n",
    "\n",
    "c0=0.5\n",
    "c1=0.5\n",
    "s=0.15\n",
    "fig = plt.figure()\n",
    "ax = fig.gca(projection='3d')\n",
    "\n",
    "x=np.arange(0,1,0.01)\n",
    "y=np.arange(0,1,0.01)\n",
    "\n",
    "x0,x1=np.meshgrid(x,y)\n",
    "\n",
    "def funct2():\n",
    "    t=np.sqrt(((x0-c0)**2)+((x1-c1)**2))\n",
    "    z=(np.exp(-(t*t)/(2*s**2)))\n",
    "    return z\n",
    "\n",
    "q=funct2()\n",
    "surf = ax.plot_surface(x0,x1,q,cmap='plasma')\n",
    "plt.show()"
   ]
  },
  {
   "cell_type": "markdown",
   "id": "249ed90f",
   "metadata": {},
   "source": [
    "# Task 14\n",
    "\n",
    "Load MNIST dataset using tensorflow from http://yann.lecun.com/exdb/mnist/ including additional information."
   ]
  },
  {
   "cell_type": "code",
   "execution_count": 34,
   "id": "70a1ddd4",
   "metadata": {},
   "outputs": [],
   "source": [
    "#Write your code here\n",
    "import tensorflow as tf\n",
    "import matplotlib.pyplot as plt\n",
    "(x_train,y_train),(x_test,y_test)=tf.keras.datasets.mnist.load_data()\n"
   ]
  },
  {
   "cell_type": "markdown",
   "id": "4c75885d",
   "metadata": {},
   "source": [
    "### Subtask 1\n",
    "\n",
    "print the size of the input image at sample 0,"
   ]
  },
  {
   "cell_type": "code",
   "execution_count": 35,
   "id": "e05a9655",
   "metadata": {},
   "outputs": [
    {
     "data": {
      "text/plain": [
       "(28, 28)"
      ]
     },
     "execution_count": 35,
     "metadata": {},
     "output_type": "execute_result"
    }
   ],
   "source": [
    "#Write your code here\n",
    "x_train[0].shape"
   ]
  },
  {
   "cell_type": "markdown",
   "id": "74066a5a",
   "metadata": {},
   "source": [
    "### Subtask 2\n",
    "\n",
    "print the input image at sample 0 as a picture composed from dot and hash characters in text mode."
   ]
  },
  {
   "cell_type": "code",
   "execution_count": 43,
   "id": "8af34ccc",
   "metadata": {},
   "outputs": [
    {
     "name": "stdout",
     "output_type": "stream",
     "text": [
      "\n",
      "............................\n",
      "............................\n",
      "............................\n",
      "............................\n",
      "............................\n",
      ".................##.###.....\n",
      "...........############.....\n",
      "........##########..........\n",
      "........##########..........\n",
      ".........#.###...#..........\n",
      "...........##...............\n",
      "...........###..............\n",
      "............##..............\n",
      ".............###............\n",
      "..............###...........\n",
      "...............####.........\n",
      ".................###........\n",
      ".................###........\n",
      "...............#####........\n",
      ".............#######........\n",
      "............######..........\n",
      "..........######............\n",
      ".......#######..............\n",
      ".....########...............\n",
      "....#######.................\n",
      "............................\n",
      "............................\n",
      "............................\n",
      "\n"
     ]
    }
   ],
   "source": [
    "Write your code here"
   ]
  },
  {
   "cell_type": "code",
   "execution_count": 37,
   "id": "3fb5a36f",
   "metadata": {},
   "outputs": [
    {
     "name": "stdout",
     "output_type": "stream",
     "text": [
      "\n",
      "............................\n",
      "............................\n",
      "............................\n",
      "............................\n",
      "............................\n",
      ".................##.###.....\n",
      "...........############.....\n",
      "........##########..........\n",
      "........##########..........\n",
      ".........#.###...#..........\n",
      "...........##...............\n",
      "...........###..............\n",
      "............##..............\n",
      ".............###............\n",
      "..............###...........\n",
      "...............####.........\n",
      ".................###........\n",
      ".................###........\n",
      "................####........\n",
      ".............#######........\n",
      "............######..........\n",
      "..........######............\n",
      ".......#######..............\n",
      ".....########...............\n",
      "....#######.................\n",
      "............................\n",
      "............................\n",
      "............................"
     ]
    }
   ],
   "source": [
    "for i in range(0,len(x_train[0])):\n",
    "    print(\"\")\n",
    "    for j in range(0,len(x_train[0][i])):\n",
    "        if x_train[0][i][j]>130:\n",
    "            print('#',end='')\n",
    "        else :\n",
    "            print('.',end='')\n"
   ]
  },
  {
   "cell_type": "markdown",
   "id": "f87edf26",
   "metadata": {},
   "source": [
    "### Subtask 3\n",
    "\n",
    "print the input image at sample 0 as a picture using matplotlib library.\n"
   ]
  },
  {
   "cell_type": "code",
   "execution_count": 44,
   "id": "f9433ee0",
   "metadata": {},
   "outputs": [
    {
     "data": {
      "image/png": "[encoded data removed]",
      "text/plain": [
       "<Figure size 432x288 with 1 Axes>"
      ]
     },
     "metadata": {
      "needs_background": "light"
     },
     "output_type": "display_data"
    }
   ],
   "source": [
    "Write your code here"
   ]
  },
  {
   "cell_type": "code",
   "execution_count": 38,
   "id": "4d286d02",
   "metadata": {},
   "outputs": [
    {
     "data": {
      "image/png": "[encoded data removed]",
      "text/plain": [
       "<Figure size 432x288 with 1 Axes>"
      ]
     },
     "metadata": {
      "needs_background": "light"
     },
     "output_type": "display_data"
    }
   ],
   "source": [
    "plt.imshow(x_train[0],cmap='binary')\n",
    "plt.show()"
   ]
  },
  {
   "cell_type": "markdown",
   "id": "f1044d94",
   "metadata": {},
   "source": [
    "### Subtask 4\n",
    "\n",
    "Display input images of the first 16 samples using the matplotlib library.\n"
   ]
  },
  {
   "cell_type": "code",
   "execution_count": 45,
   "id": "35731f82",
   "metadata": {},
   "outputs": [
    {
     "data": {
      "image/png": "[encoded data removed]",
      "text/plain": [
       "<Figure size 432x288 with 16 Axes>"
      ]
     },
     "metadata": {
      "needs_background": "light"
     },
     "output_type": "display_data"
    }
   ],
   "source": [
    "Write your code here"
   ]
  },
  {
   "cell_type": "code",
   "execution_count": 39,
   "id": "84e1b2e2",
   "metadata": {},
   "outputs": [
    {
     "data": {
      "image/png": "[encoded data removed]",
      "text/plain": [
       "<Figure size 432x360 with 16 Axes>"
      ]
     },
     "metadata": {
      "needs_background": "light"
     },
     "output_type": "display_data"
    }
   ],
   "source": [
    "fig, axs = plt.subplots(4, 4, figsize=(6, 5))\n",
    "axs = axs.flatten()\n",
    "for img,ax in zip(x_train, axs):\n",
    "    ax.imshow(img,cmap='binary')\n",
    "plt.show()"
   ]
  },
  {
   "cell_type": "code",
   "execution_count": null,
   "id": "8365210c",
   "metadata": {},
   "outputs": [],
   "source": []
  }
 ],
 "metadata": {
  "kernelspec": {
   "display_name": "Python 3",
   "language": "python",
   "name": "python3"
  },
  "language_info": {
   "codemirror_mode": {
    "name": "ipython",
    "version": 3
   },
   "file_extension": ".py",
   "mimetype": "text/x-python",
   "name": "python",
   "nbconvert_exporter": "python",
   "pygments_lexer": "ipython3",
   "version": "3.6.13"
  }
 },
 "nbformat": 4,
 "nbformat_minor": 5
}
